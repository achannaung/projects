{
 "cells": [
  {
   "cell_type": "markdown",
   "id": "4e4e82df-0ae2-4fbe-a4f2-3727245c6e58",
   "metadata": {},
   "source": [
    "<center><h1 style='font-family:Franklin Gothic; color:#343c63'>ONYX Data</h1>\n",
    "    \n",
    "<h1 style='font-family:Franklin Gothic; color:#fdc93f'>Hotel Bookings Challenge</h1></center>\n",
    "\n",
    "<p style='font-family:Script MT; color:crimson;text-align: right'>by AChann Aung</p>\n",
    "<img src='https://img.freepik.com/premium-photo/online-hotel-accommodation-booking-website-provide-modish-reservation-system_31965-110790.jpg?size=626&ext=jpg' width=1400>"
   ]
  },
  {
   "cell_type": "markdown",
   "id": "45475524-976b-41a1-998a-10e8ba43cad6",
   "metadata": {},
   "source": [
    "***Import Library***"
   ]
  },
  {
   "cell_type": "code",
   "execution_count": 1,
   "id": "be33c825-1c3f-41bc-a253-a05caeb5f544",
   "metadata": {
    "tags": []
   },
   "outputs": [],
   "source": [
    "import pandas as pd"
   ]
  },
  {
   "cell_type": "markdown",
   "id": "cdc40eaf-d57c-4c07-92da-56e17f6ce3a0",
   "metadata": {},
   "source": [
    "***Read Dataset***"
   ]
  },
  {
   "cell_type": "code",
   "execution_count": 2,
   "id": "75e933d0-d24b-4ebb-9979-fa887324e409",
   "metadata": {
    "tags": []
   },
   "outputs": [
    {
     "data": {
      "text/html": [
       "<div>\n",
       "<style scoped>\n",
       "    .dataframe tbody tr th:only-of-type {\n",
       "        vertical-align: middle;\n",
       "    }\n",
       "\n",
       "    .dataframe tbody tr th {\n",
       "        vertical-align: top;\n",
       "    }\n",
       "\n",
       "    .dataframe thead th {\n",
       "        text-align: right;\n",
       "    }\n",
       "</style>\n",
       "<table border=\"1\" class=\"dataframe\">\n",
       "  <thead>\n",
       "    <tr style=\"text-align: right;\">\n",
       "      <th></th>\n",
       "      <th>hotel</th>\n",
       "      <th>is_canceled</th>\n",
       "      <th>lead_time</th>\n",
       "      <th>arrival_date_year</th>\n",
       "      <th>arrival_date_month</th>\n",
       "      <th>arrival_date_week_number</th>\n",
       "      <th>arrival_date_day_of_month</th>\n",
       "      <th>stays_in_weekend_nights</th>\n",
       "      <th>stays_in_week_nights</th>\n",
       "      <th>adults</th>\n",
       "      <th>...</th>\n",
       "      <th>deposit_type</th>\n",
       "      <th>agent</th>\n",
       "      <th>company</th>\n",
       "      <th>days_in_waiting_list</th>\n",
       "      <th>customer_type</th>\n",
       "      <th>adr</th>\n",
       "      <th>required_car_parking_spaces</th>\n",
       "      <th>total_of_special_requests</th>\n",
       "      <th>reservation_status</th>\n",
       "      <th>reservation_status_date</th>\n",
       "    </tr>\n",
       "  </thead>\n",
       "  <tbody>\n",
       "    <tr>\n",
       "      <th>0</th>\n",
       "      <td>Resort Hotel</td>\n",
       "      <td>0</td>\n",
       "      <td>342</td>\n",
       "      <td>2015</td>\n",
       "      <td>July</td>\n",
       "      <td>27</td>\n",
       "      <td>1</td>\n",
       "      <td>0</td>\n",
       "      <td>0</td>\n",
       "      <td>2</td>\n",
       "      <td>...</td>\n",
       "      <td>No Deposit</td>\n",
       "      <td>NaN</td>\n",
       "      <td>NaN</td>\n",
       "      <td>0</td>\n",
       "      <td>Transient</td>\n",
       "      <td>0.0</td>\n",
       "      <td>0</td>\n",
       "      <td>0</td>\n",
       "      <td>Check-Out</td>\n",
       "      <td>7/1/2015</td>\n",
       "    </tr>\n",
       "    <tr>\n",
       "      <th>1</th>\n",
       "      <td>Resort Hotel</td>\n",
       "      <td>0</td>\n",
       "      <td>737</td>\n",
       "      <td>2015</td>\n",
       "      <td>July</td>\n",
       "      <td>27</td>\n",
       "      <td>1</td>\n",
       "      <td>0</td>\n",
       "      <td>0</td>\n",
       "      <td>2</td>\n",
       "      <td>...</td>\n",
       "      <td>No Deposit</td>\n",
       "      <td>NaN</td>\n",
       "      <td>NaN</td>\n",
       "      <td>0</td>\n",
       "      <td>Transient</td>\n",
       "      <td>0.0</td>\n",
       "      <td>0</td>\n",
       "      <td>0</td>\n",
       "      <td>Check-Out</td>\n",
       "      <td>7/1/2015</td>\n",
       "    </tr>\n",
       "    <tr>\n",
       "      <th>2</th>\n",
       "      <td>Resort Hotel</td>\n",
       "      <td>0</td>\n",
       "      <td>7</td>\n",
       "      <td>2015</td>\n",
       "      <td>July</td>\n",
       "      <td>27</td>\n",
       "      <td>1</td>\n",
       "      <td>0</td>\n",
       "      <td>1</td>\n",
       "      <td>1</td>\n",
       "      <td>...</td>\n",
       "      <td>No Deposit</td>\n",
       "      <td>NaN</td>\n",
       "      <td>NaN</td>\n",
       "      <td>0</td>\n",
       "      <td>Transient</td>\n",
       "      <td>75.0</td>\n",
       "      <td>0</td>\n",
       "      <td>0</td>\n",
       "      <td>Check-Out</td>\n",
       "      <td>7/2/2015</td>\n",
       "    </tr>\n",
       "  </tbody>\n",
       "</table>\n",
       "<p>3 rows × 32 columns</p>\n",
       "</div>"
      ],
      "text/plain": [
       "          hotel  is_canceled  lead_time  arrival_date_year arrival_date_month  \\\n",
       "0  Resort Hotel            0        342               2015               July   \n",
       "1  Resort Hotel            0        737               2015               July   \n",
       "2  Resort Hotel            0          7               2015               July   \n",
       "\n",
       "   arrival_date_week_number  arrival_date_day_of_month  \\\n",
       "0                        27                          1   \n",
       "1                        27                          1   \n",
       "2                        27                          1   \n",
       "\n",
       "   stays_in_weekend_nights  stays_in_week_nights  adults  ...  deposit_type  \\\n",
       "0                        0                     0       2  ...    No Deposit   \n",
       "1                        0                     0       2  ...    No Deposit   \n",
       "2                        0                     1       1  ...    No Deposit   \n",
       "\n",
       "   agent company days_in_waiting_list customer_type   adr  \\\n",
       "0    NaN     NaN                    0     Transient   0.0   \n",
       "1    NaN     NaN                    0     Transient   0.0   \n",
       "2    NaN     NaN                    0     Transient  75.0   \n",
       "\n",
       "   required_car_parking_spaces  total_of_special_requests  reservation_status  \\\n",
       "0                            0                          0           Check-Out   \n",
       "1                            0                          0           Check-Out   \n",
       "2                            0                          0           Check-Out   \n",
       "\n",
       "  reservation_status_date  \n",
       "0                7/1/2015  \n",
       "1                7/1/2015  \n",
       "2                7/2/2015  \n",
       "\n",
       "[3 rows x 32 columns]"
      ]
     },
     "execution_count": 2,
     "metadata": {},
     "output_type": "execute_result"
    }
   ],
   "source": [
    "hotel = pd.read_csv('DNA.csv')\n",
    "hotel.head(3)"
   ]
  },
  {
   "cell_type": "markdown",
   "id": "6e49a859-9050-4c4a-a411-d8d93923d369",
   "metadata": {},
   "source": [
    "***Total rows & cols***"
   ]
  },
  {
   "cell_type": "code",
   "execution_count": 3,
   "id": "49d3ef50-2927-4ac5-abdc-0604b0247a23",
   "metadata": {
    "tags": []
   },
   "outputs": [
    {
     "data": {
      "text/plain": [
       "(119390, 32)"
      ]
     },
     "execution_count": 3,
     "metadata": {},
     "output_type": "execute_result"
    }
   ],
   "source": [
    "hotel.shape"
   ]
  },
  {
   "cell_type": "markdown",
   "id": "421fa56f-1994-4001-a9ff-15dd97f9b67f",
   "metadata": {},
   "source": [
    "***Data types***"
   ]
  },
  {
   "cell_type": "code",
   "execution_count": 4,
   "id": "d497fe25-1aa8-441a-8dd4-1a96267de8cc",
   "metadata": {
    "tags": []
   },
   "outputs": [
    {
     "name": "stdout",
     "output_type": "stream",
     "text": [
      "<class 'pandas.core.frame.DataFrame'>\n",
      "RangeIndex: 119390 entries, 0 to 119389\n",
      "Data columns (total 32 columns):\n",
      " #   Column                          Non-Null Count   Dtype  \n",
      "---  ------                          --------------   -----  \n",
      " 0   hotel                           119390 non-null  object \n",
      " 1   is_canceled                     119390 non-null  int64  \n",
      " 2   lead_time                       119390 non-null  int64  \n",
      " 3   arrival_date_year               119390 non-null  int64  \n",
      " 4   arrival_date_month              119390 non-null  object \n",
      " 5   arrival_date_week_number        119390 non-null  int64  \n",
      " 6   arrival_date_day_of_month       119390 non-null  int64  \n",
      " 7   stays_in_weekend_nights         119390 non-null  int64  \n",
      " 8   stays_in_week_nights            119390 non-null  int64  \n",
      " 9   adults                          119390 non-null  int64  \n",
      " 10  children                        119386 non-null  float64\n",
      " 11  babies                          119390 non-null  int64  \n",
      " 12  meal                            119390 non-null  object \n",
      " 13  country                         118902 non-null  object \n",
      " 14  market_segment                  119390 non-null  object \n",
      " 15  distribution_channel            119390 non-null  object \n",
      " 16  is_repeated_guest               119390 non-null  int64  \n",
      " 17  previous_cancellations          119390 non-null  int64  \n",
      " 18  previous_bookings_not_canceled  119390 non-null  int64  \n",
      " 19  reserved_room_type              119390 non-null  object \n",
      " 20  assigned_room_type              119390 non-null  object \n",
      " 21  booking_changes                 119390 non-null  int64  \n",
      " 22  deposit_type                    119390 non-null  object \n",
      " 23  agent                           103050 non-null  float64\n",
      " 24  company                         6797 non-null    float64\n",
      " 25  days_in_waiting_list            119390 non-null  int64  \n",
      " 26  customer_type                   119390 non-null  object \n",
      " 27  adr                             119390 non-null  float64\n",
      " 28  required_car_parking_spaces     119390 non-null  int64  \n",
      " 29  total_of_special_requests       119390 non-null  int64  \n",
      " 30  reservation_status              119390 non-null  object \n",
      " 31  reservation_status_date         119390 non-null  object \n",
      "dtypes: float64(4), int64(16), object(12)\n",
      "memory usage: 29.1+ MB\n"
     ]
    }
   ],
   "source": [
    "hotel.info()"
   ]
  },
  {
   "cell_type": "markdown",
   "id": "f3665249-4f4d-47dd-ae54-5a86a83d8056",
   "metadata": {},
   "source": [
    "***`null` value***"
   ]
  },
  {
   "cell_type": "code",
   "execution_count": 5,
   "id": "b3f6643f-ec55-4bb7-b1eb-e1d1b6e1dc5f",
   "metadata": {
    "tags": []
   },
   "outputs": [
    {
     "data": {
      "text/plain": [
       "hotel                                  0\n",
       "is_canceled                            0\n",
       "lead_time                              0\n",
       "arrival_date_year                      0\n",
       "arrival_date_month                     0\n",
       "arrival_date_week_number               0\n",
       "arrival_date_day_of_month              0\n",
       "stays_in_weekend_nights                0\n",
       "stays_in_week_nights                   0\n",
       "adults                                 0\n",
       "children                               4\n",
       "babies                                 0\n",
       "meal                                   0\n",
       "country                              488\n",
       "market_segment                         0\n",
       "distribution_channel                   0\n",
       "is_repeated_guest                      0\n",
       "previous_cancellations                 0\n",
       "previous_bookings_not_canceled         0\n",
       "reserved_room_type                     0\n",
       "assigned_room_type                     0\n",
       "booking_changes                        0\n",
       "deposit_type                           0\n",
       "agent                              16340\n",
       "company                           112593\n",
       "days_in_waiting_list                   0\n",
       "customer_type                          0\n",
       "adr                                    0\n",
       "required_car_parking_spaces            0\n",
       "total_of_special_requests              0\n",
       "reservation_status                     0\n",
       "reservation_status_date                0\n",
       "dtype: int64"
      ]
     },
     "execution_count": 5,
     "metadata": {},
     "output_type": "execute_result"
    }
   ],
   "source": [
    "hotel.isnull().sum()"
   ]
  },
  {
   "cell_type": "code",
   "execution_count": 6,
   "id": "ea8d6394-28f4-4124-b810-c92105cc4e51",
   "metadata": {
    "tags": []
   },
   "outputs": [
    {
     "data": {
      "text/plain": [
       "hotel                              0.00\n",
       "is_canceled                        0.00\n",
       "lead_time                          0.00\n",
       "arrival_date_year                  0.00\n",
       "arrival_date_month                 0.00\n",
       "arrival_date_week_number           0.00\n",
       "arrival_date_day_of_month          0.00\n",
       "stays_in_weekend_nights            0.00\n",
       "stays_in_week_nights               0.00\n",
       "adults                             0.00\n",
       "children                           0.00\n",
       "babies                             0.00\n",
       "meal                               0.00\n",
       "country                            0.41\n",
       "market_segment                     0.00\n",
       "distribution_channel               0.00\n",
       "is_repeated_guest                  0.00\n",
       "previous_cancellations             0.00\n",
       "previous_bookings_not_canceled     0.00\n",
       "reserved_room_type                 0.00\n",
       "assigned_room_type                 0.00\n",
       "booking_changes                    0.00\n",
       "deposit_type                       0.00\n",
       "agent                             13.69\n",
       "company                           94.31\n",
       "days_in_waiting_list               0.00\n",
       "customer_type                      0.00\n",
       "adr                                0.00\n",
       "required_car_parking_spaces        0.00\n",
       "total_of_special_requests          0.00\n",
       "reservation_status                 0.00\n",
       "reservation_status_date            0.00\n",
       "dtype: float64"
      ]
     },
     "execution_count": 6,
     "metadata": {},
     "output_type": "execute_result"
    }
   ],
   "source": [
    "round(100*(hotel.isnull().sum() / len(hotel.index)),2)"
   ]
  },
  {
   "cell_type": "markdown",
   "id": "1018760f-f837-423a-8768-5e74d7d9fe54",
   "metadata": {},
   "source": [
    "<h2 style='font-famaily:Verdana; color:Crimson'>Data Wrangling</h2>"
   ]
  },
  {
   "cell_type": "markdown",
   "id": "37f2b69f-caef-49f3-babe-52c6f383ebe7",
   "metadata": {},
   "source": [
    "***drop unnessary cols & rows***"
   ]
  },
  {
   "cell_type": "code",
   "execution_count": 7,
   "id": "05333513-8c39-4b65-8afd-0a19e8c8adf7",
   "metadata": {
    "tags": []
   },
   "outputs": [],
   "source": [
    "hotel.drop(['agent', 'company'], axis=1, inplace=True)"
   ]
  },
  {
   "cell_type": "code",
   "execution_count": 8,
   "id": "02bcf6f8-1a54-4d1b-8d84-49f2dedaedc8",
   "metadata": {
    "tags": []
   },
   "outputs": [],
   "source": [
    "#drop null rows\n",
    "hotel.dropna(axis=0, inplace=True)"
   ]
  },
  {
   "cell_type": "markdown",
   "id": "73222d32-4397-480c-a464-c5a501cd1785",
   "metadata": {},
   "source": [
    "***cleaned, rows & cols***"
   ]
  },
  {
   "cell_type": "code",
   "execution_count": 9,
   "id": "b28e89c1-df84-46b0-a911-3cff711a6b3e",
   "metadata": {
    "tags": []
   },
   "outputs": [
    {
     "data": {
      "text/plain": [
       "(118898, 30)"
      ]
     },
     "execution_count": 9,
     "metadata": {},
     "output_type": "execute_result"
    }
   ],
   "source": [
    "hotel.shape"
   ]
  },
  {
   "cell_type": "markdown",
   "id": "be182874-2af9-42a8-8466-4e4fbfb0575d",
   "metadata": {},
   "source": [
    "***Converting dtype***"
   ]
  },
  {
   "cell_type": "code",
   "execution_count": 10,
   "id": "b409f2d3-20e0-4af4-9521-a55b5f9b1102",
   "metadata": {
    "tags": []
   },
   "outputs": [],
   "source": [
    "# change dtype \"float\" to \"int\"\n",
    "hotel['children'] = hotel['children'].astype(int)"
   ]
  },
  {
   "cell_type": "code",
   "execution_count": 11,
   "id": "9264c884-7191-4f53-9049-c28169f08f90",
   "metadata": {
    "tags": []
   },
   "outputs": [
    {
     "name": "stdout",
     "output_type": "stream",
     "text": [
      "Total Kids: 13335\n"
     ]
    }
   ],
   "source": [
    "#create Kids column\n",
    "hotel['kids'] = hotel['children'] + hotel['babies']\n",
    "print(\"Total Kids:\",hotel['kids'].sum())"
   ]
  },
  {
   "cell_type": "markdown",
   "id": "25d650f5-ff31-4254-8fb9-da2836168740",
   "metadata": {},
   "source": [
    "***Create total guests col***"
   ]
  },
  {
   "cell_type": "code",
   "execution_count": 12,
   "id": "4e106cee-8945-48f9-8ab5-a0d36ba33b22",
   "metadata": {
    "tags": []
   },
   "outputs": [
    {
     "name": "stdout",
     "output_type": "stream",
     "text": [
      "Total guests: 234294\n"
     ]
    }
   ],
   "source": [
    "#create \"total_guest\" column\n",
    "hotel['total_guest'] = hotel['kids'] + hotel['adults']\n",
    "print(\"Total guests:\", hotel['total_guest'].sum())"
   ]
  },
  {
   "cell_type": "code",
   "execution_count": 13,
   "id": "22f69b54-fc7f-4375-baa9-d1f02ec23ccb",
   "metadata": {
    "tags": []
   },
   "outputs": [
    {
     "data": {
      "text/html": [
       "<div>\n",
       "<style scoped>\n",
       "    .dataframe tbody tr th:only-of-type {\n",
       "        vertical-align: middle;\n",
       "    }\n",
       "\n",
       "    .dataframe tbody tr th {\n",
       "        vertical-align: top;\n",
       "    }\n",
       "\n",
       "    .dataframe thead th {\n",
       "        text-align: right;\n",
       "    }\n",
       "</style>\n",
       "<table border=\"1\" class=\"dataframe\">\n",
       "  <thead>\n",
       "    <tr style=\"text-align: right;\">\n",
       "      <th></th>\n",
       "      <th>hotel</th>\n",
       "      <th>is_canceled</th>\n",
       "      <th>lead_time</th>\n",
       "      <th>arrival_date_year</th>\n",
       "      <th>arrival_date_month</th>\n",
       "      <th>arrival_date_week_number</th>\n",
       "      <th>arrival_date_day_of_month</th>\n",
       "      <th>stays_in_weekend_nights</th>\n",
       "      <th>stays_in_week_nights</th>\n",
       "      <th>adults</th>\n",
       "      <th>...</th>\n",
       "      <th>deposit_type</th>\n",
       "      <th>days_in_waiting_list</th>\n",
       "      <th>customer_type</th>\n",
       "      <th>adr</th>\n",
       "      <th>required_car_parking_spaces</th>\n",
       "      <th>total_of_special_requests</th>\n",
       "      <th>reservation_status</th>\n",
       "      <th>reservation_status_date</th>\n",
       "      <th>kids</th>\n",
       "      <th>total_guest</th>\n",
       "    </tr>\n",
       "  </thead>\n",
       "  <tbody>\n",
       "    <tr>\n",
       "      <th>0</th>\n",
       "      <td>Resort Hotel</td>\n",
       "      <td>0</td>\n",
       "      <td>342</td>\n",
       "      <td>2015</td>\n",
       "      <td>July</td>\n",
       "      <td>27</td>\n",
       "      <td>1</td>\n",
       "      <td>0</td>\n",
       "      <td>0</td>\n",
       "      <td>2</td>\n",
       "      <td>...</td>\n",
       "      <td>No Deposit</td>\n",
       "      <td>0</td>\n",
       "      <td>Transient</td>\n",
       "      <td>0.0</td>\n",
       "      <td>0</td>\n",
       "      <td>0</td>\n",
       "      <td>Check-Out</td>\n",
       "      <td>7/1/2015</td>\n",
       "      <td>0</td>\n",
       "      <td>2</td>\n",
       "    </tr>\n",
       "    <tr>\n",
       "      <th>1</th>\n",
       "      <td>Resort Hotel</td>\n",
       "      <td>0</td>\n",
       "      <td>737</td>\n",
       "      <td>2015</td>\n",
       "      <td>July</td>\n",
       "      <td>27</td>\n",
       "      <td>1</td>\n",
       "      <td>0</td>\n",
       "      <td>0</td>\n",
       "      <td>2</td>\n",
       "      <td>...</td>\n",
       "      <td>No Deposit</td>\n",
       "      <td>0</td>\n",
       "      <td>Transient</td>\n",
       "      <td>0.0</td>\n",
       "      <td>0</td>\n",
       "      <td>0</td>\n",
       "      <td>Check-Out</td>\n",
       "      <td>7/1/2015</td>\n",
       "      <td>0</td>\n",
       "      <td>2</td>\n",
       "    </tr>\n",
       "    <tr>\n",
       "      <th>2</th>\n",
       "      <td>Resort Hotel</td>\n",
       "      <td>0</td>\n",
       "      <td>7</td>\n",
       "      <td>2015</td>\n",
       "      <td>July</td>\n",
       "      <td>27</td>\n",
       "      <td>1</td>\n",
       "      <td>0</td>\n",
       "      <td>1</td>\n",
       "      <td>1</td>\n",
       "      <td>...</td>\n",
       "      <td>No Deposit</td>\n",
       "      <td>0</td>\n",
       "      <td>Transient</td>\n",
       "      <td>75.0</td>\n",
       "      <td>0</td>\n",
       "      <td>0</td>\n",
       "      <td>Check-Out</td>\n",
       "      <td>7/2/2015</td>\n",
       "      <td>0</td>\n",
       "      <td>1</td>\n",
       "    </tr>\n",
       "  </tbody>\n",
       "</table>\n",
       "<p>3 rows × 32 columns</p>\n",
       "</div>"
      ],
      "text/plain": [
       "          hotel  is_canceled  lead_time  arrival_date_year arrival_date_month  \\\n",
       "0  Resort Hotel            0        342               2015               July   \n",
       "1  Resort Hotel            0        737               2015               July   \n",
       "2  Resort Hotel            0          7               2015               July   \n",
       "\n",
       "   arrival_date_week_number  arrival_date_day_of_month  \\\n",
       "0                        27                          1   \n",
       "1                        27                          1   \n",
       "2                        27                          1   \n",
       "\n",
       "   stays_in_weekend_nights  stays_in_week_nights  adults  ...  deposit_type  \\\n",
       "0                        0                     0       2  ...    No Deposit   \n",
       "1                        0                     0       2  ...    No Deposit   \n",
       "2                        0                     1       1  ...    No Deposit   \n",
       "\n",
       "   days_in_waiting_list customer_type   adr required_car_parking_spaces  \\\n",
       "0                     0     Transient   0.0                           0   \n",
       "1                     0     Transient   0.0                           0   \n",
       "2                     0     Transient  75.0                           0   \n",
       "\n",
       "  total_of_special_requests  reservation_status  reservation_status_date  \\\n",
       "0                         0           Check-Out                 7/1/2015   \n",
       "1                         0           Check-Out                 7/1/2015   \n",
       "2                         0           Check-Out                 7/2/2015   \n",
       "\n",
       "   kids total_guest  \n",
       "0     0           2  \n",
       "1     0           2  \n",
       "2     0           1  \n",
       "\n",
       "[3 rows x 32 columns]"
      ]
     },
     "execution_count": 13,
     "metadata": {},
     "output_type": "execute_result"
    }
   ],
   "source": [
    "hotel.head(3)"
   ]
  },
  {
   "cell_type": "markdown",
   "id": "6a311028-3374-4126-b55d-4686d330e542",
   "metadata": {},
   "source": [
    "***Combine 3 cols (DD/MM/YYYY)***"
   ]
  },
  {
   "cell_type": "code",
   "execution_count": 14,
   "id": "4d6da72f-564f-43c5-ab10-7d76204df03a",
   "metadata": {
    "tags": []
   },
   "outputs": [],
   "source": [
    "# Change dtypes for concat\n",
    "hotel['arrival_date_year'] = hotel['arrival_date_year'].astype(str)\n",
    "hotel['arrival_date_month'] = hotel['arrival_date_month'].astype(str)\n",
    "hotel['arrival_date_day_of_month'] = hotel['arrival_date_day_of_month'].astype(str)"
   ]
  },
  {
   "cell_type": "code",
   "execution_count": 15,
   "id": "aa4ad1af-5772-49cc-b2a3-690a4682c220",
   "metadata": {
    "tags": []
   },
   "outputs": [
    {
     "data": {
      "text/plain": [
       "0            1-July-2015\n",
       "1            1-July-2015\n",
       "2            1-July-2015\n",
       "3            1-July-2015\n",
       "4            1-July-2015\n",
       "               ...      \n",
       "119385    30-August-2017\n",
       "119386    31-August-2017\n",
       "119387    31-August-2017\n",
       "119388    31-August-2017\n",
       "119389    29-August-2017\n",
       "Name: arrival_date, Length: 118898, dtype: object"
      ]
     },
     "execution_count": 15,
     "metadata": {},
     "output_type": "execute_result"
    }
   ],
   "source": [
    "hotel['arrival_date'] = hotel['arrival_date_day_of_month']+'-'+ hotel['arrival_date_month']+'-'+hotel['arrival_date_year']\n",
    "hotel['arrival_date']"
   ]
  },
  {
   "cell_type": "code",
   "execution_count": 16,
   "id": "737438aa-b569-444a-ab36-de220e40bd60",
   "metadata": {
    "tags": []
   },
   "outputs": [
    {
     "name": "stdout",
     "output_type": "stream",
     "text": [
      "<class 'pandas.core.frame.DataFrame'>\n",
      "Index: 118898 entries, 0 to 119389\n",
      "Data columns (total 33 columns):\n",
      " #   Column                          Non-Null Count   Dtype  \n",
      "---  ------                          --------------   -----  \n",
      " 0   hotel                           118898 non-null  object \n",
      " 1   is_canceled                     118898 non-null  int64  \n",
      " 2   lead_time                       118898 non-null  int64  \n",
      " 3   arrival_date_year               118898 non-null  object \n",
      " 4   arrival_date_month              118898 non-null  object \n",
      " 5   arrival_date_week_number        118898 non-null  int64  \n",
      " 6   arrival_date_day_of_month       118898 non-null  object \n",
      " 7   stays_in_weekend_nights         118898 non-null  int64  \n",
      " 8   stays_in_week_nights            118898 non-null  int64  \n",
      " 9   adults                          118898 non-null  int64  \n",
      " 10  children                        118898 non-null  int32  \n",
      " 11  babies                          118898 non-null  int64  \n",
      " 12  meal                            118898 non-null  object \n",
      " 13  country                         118898 non-null  object \n",
      " 14  market_segment                  118898 non-null  object \n",
      " 15  distribution_channel            118898 non-null  object \n",
      " 16  is_repeated_guest               118898 non-null  int64  \n",
      " 17  previous_cancellations          118898 non-null  int64  \n",
      " 18  previous_bookings_not_canceled  118898 non-null  int64  \n",
      " 19  reserved_room_type              118898 non-null  object \n",
      " 20  assigned_room_type              118898 non-null  object \n",
      " 21  booking_changes                 118898 non-null  int64  \n",
      " 22  deposit_type                    118898 non-null  object \n",
      " 23  days_in_waiting_list            118898 non-null  int64  \n",
      " 24  customer_type                   118898 non-null  object \n",
      " 25  adr                             118898 non-null  float64\n",
      " 26  required_car_parking_spaces     118898 non-null  int64  \n",
      " 27  total_of_special_requests       118898 non-null  int64  \n",
      " 28  reservation_status              118898 non-null  object \n",
      " 29  reservation_status_date         118898 non-null  object \n",
      " 30  kids                            118898 non-null  int64  \n",
      " 31  total_guest                     118898 non-null  int64  \n",
      " 32  arrival_date                    118898 non-null  object \n",
      "dtypes: float64(1), int32(1), int64(16), object(15)\n",
      "memory usage: 30.4+ MB\n"
     ]
    }
   ],
   "source": [
    "#check dtypes\n",
    "hotel.info()"
   ]
  },
  {
   "cell_type": "code",
   "execution_count": 17,
   "id": "9623f0d5-100f-4550-adb2-d59ca02874b7",
   "metadata": {
    "tags": []
   },
   "outputs": [],
   "source": [
    "hotel['arrival_date'] = hotel['arrival_date'].astype('datetime64[ns]')"
   ]
  },
  {
   "cell_type": "code",
   "execution_count": 18,
   "id": "7b35b4fc-cd88-4dac-a396-6ccc62937d16",
   "metadata": {
    "tags": []
   },
   "outputs": [
    {
     "name": "stdout",
     "output_type": "stream",
     "text": [
      "<class 'pandas.core.frame.DataFrame'>\n",
      "Index: 118898 entries, 0 to 119389\n",
      "Data columns (total 33 columns):\n",
      " #   Column                          Non-Null Count   Dtype         \n",
      "---  ------                          --------------   -----         \n",
      " 0   hotel                           118898 non-null  object        \n",
      " 1   is_canceled                     118898 non-null  int64         \n",
      " 2   lead_time                       118898 non-null  int64         \n",
      " 3   arrival_date_year               118898 non-null  object        \n",
      " 4   arrival_date_month              118898 non-null  object        \n",
      " 5   arrival_date_week_number        118898 non-null  int64         \n",
      " 6   arrival_date_day_of_month       118898 non-null  object        \n",
      " 7   stays_in_weekend_nights         118898 non-null  int64         \n",
      " 8   stays_in_week_nights            118898 non-null  int64         \n",
      " 9   adults                          118898 non-null  int64         \n",
      " 10  children                        118898 non-null  int32         \n",
      " 11  babies                          118898 non-null  int64         \n",
      " 12  meal                            118898 non-null  object        \n",
      " 13  country                         118898 non-null  object        \n",
      " 14  market_segment                  118898 non-null  object        \n",
      " 15  distribution_channel            118898 non-null  object        \n",
      " 16  is_repeated_guest               118898 non-null  int64         \n",
      " 17  previous_cancellations          118898 non-null  int64         \n",
      " 18  previous_bookings_not_canceled  118898 non-null  int64         \n",
      " 19  reserved_room_type              118898 non-null  object        \n",
      " 20  assigned_room_type              118898 non-null  object        \n",
      " 21  booking_changes                 118898 non-null  int64         \n",
      " 22  deposit_type                    118898 non-null  object        \n",
      " 23  days_in_waiting_list            118898 non-null  int64         \n",
      " 24  customer_type                   118898 non-null  object        \n",
      " 25  adr                             118898 non-null  float64       \n",
      " 26  required_car_parking_spaces     118898 non-null  int64         \n",
      " 27  total_of_special_requests       118898 non-null  int64         \n",
      " 28  reservation_status              118898 non-null  object        \n",
      " 29  reservation_status_date         118898 non-null  object        \n",
      " 30  kids                            118898 non-null  int64         \n",
      " 31  total_guest                     118898 non-null  int64         \n",
      " 32  arrival_date                    118898 non-null  datetime64[ns]\n",
      "dtypes: datetime64[ns](1), float64(1), int32(1), int64(16), object(14)\n",
      "memory usage: 30.4+ MB\n"
     ]
    }
   ],
   "source": [
    "hotel.info()"
   ]
  },
  {
   "cell_type": "code",
   "execution_count": 19,
   "id": "6e4d8066-fb2a-4256-882d-2961b1468dd5",
   "metadata": {
    "tags": []
   },
   "outputs": [],
   "source": [
    "import datetime as dt"
   ]
  },
  {
   "cell_type": "markdown",
   "id": "ab9f0ab3-3b9f-494c-ad90-4afab539c211",
   "metadata": {},
   "source": [
    "***Create `Booking Confirmed`dataframe***"
   ]
  },
  {
   "cell_type": "code",
   "execution_count": 20,
   "id": "caad22dc-b36a-47f7-9950-e928d5c95f83",
   "metadata": {
    "tags": []
   },
   "outputs": [
    {
     "data": {
      "text/plain": [
       "(74745, 33)"
      ]
     },
     "execution_count": 20,
     "metadata": {},
     "output_type": "execute_result"
    }
   ],
   "source": [
    "#Confirmed booking dataframe\n",
    "con_book = hotel[hotel['is_canceled'] == 0]\n",
    "con_book.shape"
   ]
  },
  {
   "cell_type": "code",
   "execution_count": 21,
   "id": "b33e2037-a25c-4889-81d5-dd4cf4189003",
   "metadata": {
    "tags": []
   },
   "outputs": [
    {
     "name": "stderr",
     "output_type": "stream",
     "text": [
      "C:\\Users\\Exera\\AppData\\Local\\Temp\\ipykernel_12704\\3443311040.py:2: SettingWithCopyWarning: \n",
      "A value is trying to be set on a copy of a slice from a DataFrame.\n",
      "Try using .loc[row_indexer,col_indexer] = value instead\n",
      "\n",
      "See the caveats in the documentation: https://pandas.pydata.org/pandas-docs/stable/user_guide/indexing.html#returning-a-view-versus-a-copy\n",
      "  con_book['arrival_month'] = hotel['arrival_date'].dt.month\n"
     ]
    }
   ],
   "source": [
    "#create \"arrival_month\" column in \"confirmed_booking\" df\n",
    "con_book['arrival_month'] = hotel['arrival_date'].dt.month"
   ]
  },
  {
   "cell_type": "code",
   "execution_count": 22,
   "id": "eba3f0b3-22e8-4db1-b5f2-7286caf0b3b2",
   "metadata": {
    "tags": []
   },
   "outputs": [
    {
     "data": {
      "text/html": [
       "<div>\n",
       "<style scoped>\n",
       "    .dataframe tbody tr th:only-of-type {\n",
       "        vertical-align: middle;\n",
       "    }\n",
       "\n",
       "    .dataframe tbody tr th {\n",
       "        vertical-align: top;\n",
       "    }\n",
       "\n",
       "    .dataframe thead th {\n",
       "        text-align: right;\n",
       "    }\n",
       "</style>\n",
       "<table border=\"1\" class=\"dataframe\">\n",
       "  <thead>\n",
       "    <tr style=\"text-align: right;\">\n",
       "      <th></th>\n",
       "      <th>hotel</th>\n",
       "      <th>is_canceled</th>\n",
       "      <th>lead_time</th>\n",
       "      <th>arrival_date_year</th>\n",
       "      <th>arrival_date_month</th>\n",
       "      <th>arrival_date_week_number</th>\n",
       "      <th>arrival_date_day_of_month</th>\n",
       "      <th>stays_in_weekend_nights</th>\n",
       "      <th>stays_in_week_nights</th>\n",
       "      <th>adults</th>\n",
       "      <th>...</th>\n",
       "      <th>customer_type</th>\n",
       "      <th>adr</th>\n",
       "      <th>required_car_parking_spaces</th>\n",
       "      <th>total_of_special_requests</th>\n",
       "      <th>reservation_status</th>\n",
       "      <th>reservation_status_date</th>\n",
       "      <th>kids</th>\n",
       "      <th>total_guest</th>\n",
       "      <th>arrival_date</th>\n",
       "      <th>arrival_month</th>\n",
       "    </tr>\n",
       "  </thead>\n",
       "  <tbody>\n",
       "    <tr>\n",
       "      <th>0</th>\n",
       "      <td>Resort Hotel</td>\n",
       "      <td>0</td>\n",
       "      <td>342</td>\n",
       "      <td>2015</td>\n",
       "      <td>July</td>\n",
       "      <td>27</td>\n",
       "      <td>1</td>\n",
       "      <td>0</td>\n",
       "      <td>0</td>\n",
       "      <td>2</td>\n",
       "      <td>...</td>\n",
       "      <td>Transient</td>\n",
       "      <td>0.0</td>\n",
       "      <td>0</td>\n",
       "      <td>0</td>\n",
       "      <td>Check-Out</td>\n",
       "      <td>7/1/2015</td>\n",
       "      <td>0</td>\n",
       "      <td>2</td>\n",
       "      <td>2015-07-01</td>\n",
       "      <td>7</td>\n",
       "    </tr>\n",
       "    <tr>\n",
       "      <th>1</th>\n",
       "      <td>Resort Hotel</td>\n",
       "      <td>0</td>\n",
       "      <td>737</td>\n",
       "      <td>2015</td>\n",
       "      <td>July</td>\n",
       "      <td>27</td>\n",
       "      <td>1</td>\n",
       "      <td>0</td>\n",
       "      <td>0</td>\n",
       "      <td>2</td>\n",
       "      <td>...</td>\n",
       "      <td>Transient</td>\n",
       "      <td>0.0</td>\n",
       "      <td>0</td>\n",
       "      <td>0</td>\n",
       "      <td>Check-Out</td>\n",
       "      <td>7/1/2015</td>\n",
       "      <td>0</td>\n",
       "      <td>2</td>\n",
       "      <td>2015-07-01</td>\n",
       "      <td>7</td>\n",
       "    </tr>\n",
       "    <tr>\n",
       "      <th>2</th>\n",
       "      <td>Resort Hotel</td>\n",
       "      <td>0</td>\n",
       "      <td>7</td>\n",
       "      <td>2015</td>\n",
       "      <td>July</td>\n",
       "      <td>27</td>\n",
       "      <td>1</td>\n",
       "      <td>0</td>\n",
       "      <td>1</td>\n",
       "      <td>1</td>\n",
       "      <td>...</td>\n",
       "      <td>Transient</td>\n",
       "      <td>75.0</td>\n",
       "      <td>0</td>\n",
       "      <td>0</td>\n",
       "      <td>Check-Out</td>\n",
       "      <td>7/2/2015</td>\n",
       "      <td>0</td>\n",
       "      <td>1</td>\n",
       "      <td>2015-07-01</td>\n",
       "      <td>7</td>\n",
       "    </tr>\n",
       "    <tr>\n",
       "      <th>3</th>\n",
       "      <td>Resort Hotel</td>\n",
       "      <td>0</td>\n",
       "      <td>13</td>\n",
       "      <td>2015</td>\n",
       "      <td>July</td>\n",
       "      <td>27</td>\n",
       "      <td>1</td>\n",
       "      <td>0</td>\n",
       "      <td>1</td>\n",
       "      <td>1</td>\n",
       "      <td>...</td>\n",
       "      <td>Transient</td>\n",
       "      <td>75.0</td>\n",
       "      <td>0</td>\n",
       "      <td>0</td>\n",
       "      <td>Check-Out</td>\n",
       "      <td>7/2/2015</td>\n",
       "      <td>0</td>\n",
       "      <td>1</td>\n",
       "      <td>2015-07-01</td>\n",
       "      <td>7</td>\n",
       "    </tr>\n",
       "    <tr>\n",
       "      <th>4</th>\n",
       "      <td>Resort Hotel</td>\n",
       "      <td>0</td>\n",
       "      <td>14</td>\n",
       "      <td>2015</td>\n",
       "      <td>July</td>\n",
       "      <td>27</td>\n",
       "      <td>1</td>\n",
       "      <td>0</td>\n",
       "      <td>2</td>\n",
       "      <td>2</td>\n",
       "      <td>...</td>\n",
       "      <td>Transient</td>\n",
       "      <td>98.0</td>\n",
       "      <td>0</td>\n",
       "      <td>1</td>\n",
       "      <td>Check-Out</td>\n",
       "      <td>7/3/2015</td>\n",
       "      <td>0</td>\n",
       "      <td>2</td>\n",
       "      <td>2015-07-01</td>\n",
       "      <td>7</td>\n",
       "    </tr>\n",
       "  </tbody>\n",
       "</table>\n",
       "<p>5 rows × 34 columns</p>\n",
       "</div>"
      ],
      "text/plain": [
       "          hotel  is_canceled  lead_time arrival_date_year arrival_date_month  \\\n",
       "0  Resort Hotel            0        342              2015               July   \n",
       "1  Resort Hotel            0        737              2015               July   \n",
       "2  Resort Hotel            0          7              2015               July   \n",
       "3  Resort Hotel            0         13              2015               July   \n",
       "4  Resort Hotel            0         14              2015               July   \n",
       "\n",
       "   arrival_date_week_number arrival_date_day_of_month  \\\n",
       "0                        27                         1   \n",
       "1                        27                         1   \n",
       "2                        27                         1   \n",
       "3                        27                         1   \n",
       "4                        27                         1   \n",
       "\n",
       "   stays_in_weekend_nights  stays_in_week_nights  adults  ...  customer_type  \\\n",
       "0                        0                     0       2  ...      Transient   \n",
       "1                        0                     0       2  ...      Transient   \n",
       "2                        0                     1       1  ...      Transient   \n",
       "3                        0                     1       1  ...      Transient   \n",
       "4                        0                     2       2  ...      Transient   \n",
       "\n",
       "    adr required_car_parking_spaces total_of_special_requests  \\\n",
       "0   0.0                           0                         0   \n",
       "1   0.0                           0                         0   \n",
       "2  75.0                           0                         0   \n",
       "3  75.0                           0                         0   \n",
       "4  98.0                           0                         1   \n",
       "\n",
       "  reservation_status reservation_status_date  kids  total_guest  arrival_date  \\\n",
       "0          Check-Out                7/1/2015     0            2    2015-07-01   \n",
       "1          Check-Out                7/1/2015     0            2    2015-07-01   \n",
       "2          Check-Out                7/2/2015     0            1    2015-07-01   \n",
       "3          Check-Out                7/2/2015     0            1    2015-07-01   \n",
       "4          Check-Out                7/3/2015     0            2    2015-07-01   \n",
       "\n",
       "  arrival_month  \n",
       "0             7  \n",
       "1             7  \n",
       "2             7  \n",
       "3             7  \n",
       "4             7  \n",
       "\n",
       "[5 rows x 34 columns]"
      ]
     },
     "execution_count": 22,
     "metadata": {},
     "output_type": "execute_result"
    }
   ],
   "source": [
    "con_book.head()"
   ]
  },
  {
   "cell_type": "markdown",
   "id": "a165aeee-6dd4-48e8-a614-1b7963cb7eaf",
   "metadata": {},
   "source": [
    "***Rename cols***"
   ]
  },
  {
   "cell_type": "code",
   "execution_count": 23,
   "id": "7af3ed88-079d-44db-8a8e-397f61d2d953",
   "metadata": {
    "tags": []
   },
   "outputs": [
    {
     "data": {
      "text/plain": [
       "Index(['hotel', 'is_canceled', 'lead_time', 'arrival_date_year',\n",
       "       'arrival_date_month', 'arrival_date_week_number',\n",
       "       'arrival_date_day_of_month', 'stays_in_weekend_nights',\n",
       "       'stays_in_week_nights', 'adults', 'children', 'babies', 'meal',\n",
       "       'country', 'market_segment', 'distribution_channel',\n",
       "       'is_repeated_guest', 'previous_cancellations',\n",
       "       'previous_bookings_not_canceled', 'reserved_room_type',\n",
       "       'assigned_room_type', 'booking_changes', 'deposit_type',\n",
       "       'days_in_waiting_list', 'customer_type', 'adr',\n",
       "       'required_car_parking_spaces', 'total_of_special_requests',\n",
       "       'reservation_status', 'reservation_status_date', 'kids', 'total_guest',\n",
       "       'arrival_date', 'arrival_month'],\n",
       "      dtype='object')"
      ]
     },
     "execution_count": 23,
     "metadata": {},
     "output_type": "execute_result"
    }
   ],
   "source": [
    "con_book.columns"
   ]
  },
  {
   "cell_type": "code",
   "execution_count": 24,
   "id": "3182926f-583a-4e4d-a527-1f4b372c20f3",
   "metadata": {
    "tags": []
   },
   "outputs": [],
   "source": [
    "con_book.columns = ['Hotel', 'Canceled', 'LeadTime', 'Arr_Year', 'Arr_Month', 'Arr_Week','Arr_Day', 'Weekend_Stay',\n",
    "              'Week_Stay', 'Adults', 'Children', 'Babies', 'Meal','Country', 'Market_Segment', 'Distribution_Channel','Repeated_Guest', 'Prev_Cancel',\n",
    "              'Prev_Book', 'Book_RoomType','Assign_RoomType', 'Change_Booking', 'Deposit_Type', 'Waiting_Days', \n",
    "              'Customer_Type', 'Avg_Daily_Rate','Parking_Space', 'Special_Request','Reservation_Status', 'Reservation_Date', 'Kids', 'Total_Guest', 'Arrival_Date', 'Arrival_Month']"
   ]
  },
  {
   "cell_type": "code",
   "execution_count": 25,
   "id": "872a8bf1-cb64-4976-87e9-0c07bf64b0f5",
   "metadata": {
    "tags": []
   },
   "outputs": [
    {
     "data": {
      "text/html": [
       "<div>\n",
       "<style scoped>\n",
       "    .dataframe tbody tr th:only-of-type {\n",
       "        vertical-align: middle;\n",
       "    }\n",
       "\n",
       "    .dataframe tbody tr th {\n",
       "        vertical-align: top;\n",
       "    }\n",
       "\n",
       "    .dataframe thead th {\n",
       "        text-align: right;\n",
       "    }\n",
       "</style>\n",
       "<table border=\"1\" class=\"dataframe\">\n",
       "  <thead>\n",
       "    <tr style=\"text-align: right;\">\n",
       "      <th></th>\n",
       "      <th>Hotel</th>\n",
       "      <th>Canceled</th>\n",
       "      <th>LeadTime</th>\n",
       "      <th>Arr_Year</th>\n",
       "      <th>Arr_Month</th>\n",
       "      <th>Arr_Week</th>\n",
       "      <th>Arr_Day</th>\n",
       "      <th>Weekend_Stay</th>\n",
       "      <th>Week_Stay</th>\n",
       "      <th>Adults</th>\n",
       "      <th>...</th>\n",
       "      <th>Customer_Type</th>\n",
       "      <th>Avg_Daily_Rate</th>\n",
       "      <th>Parking_Space</th>\n",
       "      <th>Special_Request</th>\n",
       "      <th>Reservation_Status</th>\n",
       "      <th>Reservation_Date</th>\n",
       "      <th>Kids</th>\n",
       "      <th>Total_Guest</th>\n",
       "      <th>Arrival_Date</th>\n",
       "      <th>Arrival_Month</th>\n",
       "    </tr>\n",
       "  </thead>\n",
       "  <tbody>\n",
       "    <tr>\n",
       "      <th>0</th>\n",
       "      <td>Resort Hotel</td>\n",
       "      <td>0</td>\n",
       "      <td>342</td>\n",
       "      <td>2015</td>\n",
       "      <td>July</td>\n",
       "      <td>27</td>\n",
       "      <td>1</td>\n",
       "      <td>0</td>\n",
       "      <td>0</td>\n",
       "      <td>2</td>\n",
       "      <td>...</td>\n",
       "      <td>Transient</td>\n",
       "      <td>0.0</td>\n",
       "      <td>0</td>\n",
       "      <td>0</td>\n",
       "      <td>Check-Out</td>\n",
       "      <td>7/1/2015</td>\n",
       "      <td>0</td>\n",
       "      <td>2</td>\n",
       "      <td>2015-07-01</td>\n",
       "      <td>7</td>\n",
       "    </tr>\n",
       "    <tr>\n",
       "      <th>1</th>\n",
       "      <td>Resort Hotel</td>\n",
       "      <td>0</td>\n",
       "      <td>737</td>\n",
       "      <td>2015</td>\n",
       "      <td>July</td>\n",
       "      <td>27</td>\n",
       "      <td>1</td>\n",
       "      <td>0</td>\n",
       "      <td>0</td>\n",
       "      <td>2</td>\n",
       "      <td>...</td>\n",
       "      <td>Transient</td>\n",
       "      <td>0.0</td>\n",
       "      <td>0</td>\n",
       "      <td>0</td>\n",
       "      <td>Check-Out</td>\n",
       "      <td>7/1/2015</td>\n",
       "      <td>0</td>\n",
       "      <td>2</td>\n",
       "      <td>2015-07-01</td>\n",
       "      <td>7</td>\n",
       "    </tr>\n",
       "    <tr>\n",
       "      <th>2</th>\n",
       "      <td>Resort Hotel</td>\n",
       "      <td>0</td>\n",
       "      <td>7</td>\n",
       "      <td>2015</td>\n",
       "      <td>July</td>\n",
       "      <td>27</td>\n",
       "      <td>1</td>\n",
       "      <td>0</td>\n",
       "      <td>1</td>\n",
       "      <td>1</td>\n",
       "      <td>...</td>\n",
       "      <td>Transient</td>\n",
       "      <td>75.0</td>\n",
       "      <td>0</td>\n",
       "      <td>0</td>\n",
       "      <td>Check-Out</td>\n",
       "      <td>7/2/2015</td>\n",
       "      <td>0</td>\n",
       "      <td>1</td>\n",
       "      <td>2015-07-01</td>\n",
       "      <td>7</td>\n",
       "    </tr>\n",
       "    <tr>\n",
       "      <th>3</th>\n",
       "      <td>Resort Hotel</td>\n",
       "      <td>0</td>\n",
       "      <td>13</td>\n",
       "      <td>2015</td>\n",
       "      <td>July</td>\n",
       "      <td>27</td>\n",
       "      <td>1</td>\n",
       "      <td>0</td>\n",
       "      <td>1</td>\n",
       "      <td>1</td>\n",
       "      <td>...</td>\n",
       "      <td>Transient</td>\n",
       "      <td>75.0</td>\n",
       "      <td>0</td>\n",
       "      <td>0</td>\n",
       "      <td>Check-Out</td>\n",
       "      <td>7/2/2015</td>\n",
       "      <td>0</td>\n",
       "      <td>1</td>\n",
       "      <td>2015-07-01</td>\n",
       "      <td>7</td>\n",
       "    </tr>\n",
       "    <tr>\n",
       "      <th>4</th>\n",
       "      <td>Resort Hotel</td>\n",
       "      <td>0</td>\n",
       "      <td>14</td>\n",
       "      <td>2015</td>\n",
       "      <td>July</td>\n",
       "      <td>27</td>\n",
       "      <td>1</td>\n",
       "      <td>0</td>\n",
       "      <td>2</td>\n",
       "      <td>2</td>\n",
       "      <td>...</td>\n",
       "      <td>Transient</td>\n",
       "      <td>98.0</td>\n",
       "      <td>0</td>\n",
       "      <td>1</td>\n",
       "      <td>Check-Out</td>\n",
       "      <td>7/3/2015</td>\n",
       "      <td>0</td>\n",
       "      <td>2</td>\n",
       "      <td>2015-07-01</td>\n",
       "      <td>7</td>\n",
       "    </tr>\n",
       "  </tbody>\n",
       "</table>\n",
       "<p>5 rows × 34 columns</p>\n",
       "</div>"
      ],
      "text/plain": [
       "          Hotel  Canceled  LeadTime Arr_Year Arr_Month  Arr_Week Arr_Day  \\\n",
       "0  Resort Hotel         0       342     2015      July        27       1   \n",
       "1  Resort Hotel         0       737     2015      July        27       1   \n",
       "2  Resort Hotel         0         7     2015      July        27       1   \n",
       "3  Resort Hotel         0        13     2015      July        27       1   \n",
       "4  Resort Hotel         0        14     2015      July        27       1   \n",
       "\n",
       "   Weekend_Stay  Week_Stay  Adults  ...  Customer_Type  Avg_Daily_Rate  \\\n",
       "0             0          0       2  ...      Transient             0.0   \n",
       "1             0          0       2  ...      Transient             0.0   \n",
       "2             0          1       1  ...      Transient            75.0   \n",
       "3             0          1       1  ...      Transient            75.0   \n",
       "4             0          2       2  ...      Transient            98.0   \n",
       "\n",
       "  Parking_Space Special_Request Reservation_Status Reservation_Date  Kids  \\\n",
       "0             0               0          Check-Out         7/1/2015     0   \n",
       "1             0               0          Check-Out         7/1/2015     0   \n",
       "2             0               0          Check-Out         7/2/2015     0   \n",
       "3             0               0          Check-Out         7/2/2015     0   \n",
       "4             0               1          Check-Out         7/3/2015     0   \n",
       "\n",
       "   Total_Guest  Arrival_Date Arrival_Month  \n",
       "0            2    2015-07-01             7  \n",
       "1            2    2015-07-01             7  \n",
       "2            1    2015-07-01             7  \n",
       "3            1    2015-07-01             7  \n",
       "4            2    2015-07-01             7  \n",
       "\n",
       "[5 rows x 34 columns]"
      ]
     },
     "execution_count": 25,
     "metadata": {},
     "output_type": "execute_result"
    }
   ],
   "source": [
    "con_book.head()"
   ]
  },
  {
   "cell_type": "code",
   "execution_count": 26,
   "id": "2782be35-d90b-45be-a80f-ae3c5c45105f",
   "metadata": {},
   "outputs": [],
   "source": [
    "#con_book.to_csv('booking_confirmed.csv')"
   ]
  },
  {
   "cell_type": "markdown",
   "id": "5d617841-ab04-4fbd-bb78-75d6a6fb7ca2",
   "metadata": {},
   "source": [
    "***Booking confirmed by 'Arrival_Month'***"
   ]
  },
  {
   "cell_type": "code",
   "execution_count": 27,
   "id": "b1191ebe-c397-4bdb-abe5-ceaab9baa916",
   "metadata": {
    "tags": []
   },
   "outputs": [
    {
     "data": {
      "text/html": [
       "<div>\n",
       "<style scoped>\n",
       "    .dataframe tbody tr th:only-of-type {\n",
       "        vertical-align: middle;\n",
       "    }\n",
       "\n",
       "    .dataframe tbody tr th {\n",
       "        vertical-align: top;\n",
       "    }\n",
       "\n",
       "    .dataframe thead th {\n",
       "        text-align: right;\n",
       "    }\n",
       "</style>\n",
       "<table border=\"1\" class=\"dataframe\">\n",
       "  <thead>\n",
       "    <tr style=\"text-align: right;\">\n",
       "      <th></th>\n",
       "      <th>Arrival_Month</th>\n",
       "      <th>count</th>\n",
       "    </tr>\n",
       "  </thead>\n",
       "  <tbody>\n",
       "    <tr>\n",
       "      <th>0</th>\n",
       "      <td>1</td>\n",
       "      <td>4068</td>\n",
       "    </tr>\n",
       "    <tr>\n",
       "      <th>1</th>\n",
       "      <td>2</td>\n",
       "      <td>5317</td>\n",
       "    </tr>\n",
       "    <tr>\n",
       "      <th>2</th>\n",
       "      <td>3</td>\n",
       "      <td>6591</td>\n",
       "    </tr>\n",
       "    <tr>\n",
       "      <th>3</th>\n",
       "      <td>4</td>\n",
       "      <td>6533</td>\n",
       "    </tr>\n",
       "    <tr>\n",
       "      <th>4</th>\n",
       "      <td>5</td>\n",
       "      <td>7102</td>\n",
       "    </tr>\n",
       "    <tr>\n",
       "      <th>5</th>\n",
       "      <td>6</td>\n",
       "      <td>6393</td>\n",
       "    </tr>\n",
       "    <tr>\n",
       "      <th>6</th>\n",
       "      <td>7</td>\n",
       "      <td>7892</td>\n",
       "    </tr>\n",
       "    <tr>\n",
       "      <th>7</th>\n",
       "      <td>8</td>\n",
       "      <td>8618</td>\n",
       "    </tr>\n",
       "    <tr>\n",
       "      <th>8</th>\n",
       "      <td>9</td>\n",
       "      <td>6367</td>\n",
       "    </tr>\n",
       "    <tr>\n",
       "      <th>9</th>\n",
       "      <td>10</td>\n",
       "      <td>6867</td>\n",
       "    </tr>\n",
       "    <tr>\n",
       "      <th>10</th>\n",
       "      <td>11</td>\n",
       "      <td>4632</td>\n",
       "    </tr>\n",
       "    <tr>\n",
       "      <th>11</th>\n",
       "      <td>12</td>\n",
       "      <td>4365</td>\n",
       "    </tr>\n",
       "  </tbody>\n",
       "</table>\n",
       "</div>"
      ],
      "text/plain": [
       "    Arrival_Month  count\n",
       "0               1   4068\n",
       "1               2   5317\n",
       "2               3   6591\n",
       "3               4   6533\n",
       "4               5   7102\n",
       "5               6   6393\n",
       "6               7   7892\n",
       "7               8   8618\n",
       "8               9   6367\n",
       "9              10   6867\n",
       "10             11   4632\n",
       "11             12   4365"
      ]
     },
     "execution_count": 27,
     "metadata": {},
     "output_type": "execute_result"
    }
   ],
   "source": [
    "total_arr_month = con_book['Arrival_Month'].value_counts().sort_index()\n",
    "tam = total_arr_month.to_frame().reset_index()\n",
    "tam"
   ]
  },
  {
   "cell_type": "code",
   "execution_count": 28,
   "id": "1e304713-0aff-4b0f-b922-aa415121f730",
   "metadata": {
    "tags": []
   },
   "outputs": [],
   "source": [
    "#tam.to_csv('total_arr_month.csv')"
   ]
  },
  {
   "cell_type": "markdown",
   "id": "811e2b4f-a2a3-40e7-9f89-79132285b1cc",
   "metadata": {},
   "source": [
    "<h2 style='font-family:Verdana; color:crimson'>Exploratory Data Analysis</h2>"
   ]
  },
  {
   "cell_type": "markdown",
   "id": "38978339-6e2c-412c-84bd-f1176b2e478c",
   "metadata": {},
   "source": [
    "***Rename cols in dataset***"
   ]
  },
  {
   "cell_type": "code",
   "execution_count": 29,
   "id": "ac3e9f97-a6d5-462a-b122-5020af39f3fb",
   "metadata": {
    "tags": []
   },
   "outputs": [
    {
     "data": {
      "text/plain": [
       "Index(['hotel', 'is_canceled', 'lead_time', 'arrival_date_year',\n",
       "       'arrival_date_month', 'arrival_date_week_number',\n",
       "       'arrival_date_day_of_month', 'stays_in_weekend_nights',\n",
       "       'stays_in_week_nights', 'adults', 'children', 'babies', 'meal',\n",
       "       'country', 'market_segment', 'distribution_channel',\n",
       "       'is_repeated_guest', 'previous_cancellations',\n",
       "       'previous_bookings_not_canceled', 'reserved_room_type',\n",
       "       'assigned_room_type', 'booking_changes', 'deposit_type',\n",
       "       'days_in_waiting_list', 'customer_type', 'adr',\n",
       "       'required_car_parking_spaces', 'total_of_special_requests',\n",
       "       'reservation_status', 'reservation_status_date', 'kids', 'total_guest',\n",
       "       'arrival_date'],\n",
       "      dtype='object')"
      ]
     },
     "execution_count": 29,
     "metadata": {},
     "output_type": "execute_result"
    }
   ],
   "source": [
    "hotel.columns"
   ]
  },
  {
   "cell_type": "code",
   "execution_count": 30,
   "id": "bd41e99d-76da-4181-b4e3-f827e171eab8",
   "metadata": {
    "tags": []
   },
   "outputs": [],
   "source": [
    "hotel.columns = ['Hotel', 'Canceled', 'LeadTime', 'Arr_Year', 'Arr_Month', 'Arr_Week','Arr_Day', 'Weekend_Stay',\n",
    "              'Week_Stay', 'Adults', 'Children', 'Babies', 'Meal','Country', 'Market_Segment', 'Distribution_Channel','Repeated_Guest', 'Prev_Cancel',\n",
    "              'Prev_Book', 'Book_RoomType','Assign_RoomType', 'Change_Booking', 'Deposit_Type', 'Waiting_Days', \n",
    "              'Customer_Type', 'Avg_Daily_Rate','Parking_Space', 'Special_Request','Reservation_Status', 'Reservation_Date', 'Kids', 'Total_Guest', 'Arrival_Date']"
   ]
  },
  {
   "cell_type": "code",
   "execution_count": 31,
   "id": "1579584e-01a2-45d5-bff6-a16a692183f5",
   "metadata": {
    "tags": []
   },
   "outputs": [
    {
     "data": {
      "text/html": [
       "<div>\n",
       "<style scoped>\n",
       "    .dataframe tbody tr th:only-of-type {\n",
       "        vertical-align: middle;\n",
       "    }\n",
       "\n",
       "    .dataframe tbody tr th {\n",
       "        vertical-align: top;\n",
       "    }\n",
       "\n",
       "    .dataframe thead th {\n",
       "        text-align: right;\n",
       "    }\n",
       "</style>\n",
       "<table border=\"1\" class=\"dataframe\">\n",
       "  <thead>\n",
       "    <tr style=\"text-align: right;\">\n",
       "      <th></th>\n",
       "      <th>Hotel</th>\n",
       "      <th>Canceled</th>\n",
       "      <th>LeadTime</th>\n",
       "      <th>Arr_Year</th>\n",
       "      <th>Arr_Month</th>\n",
       "      <th>Arr_Week</th>\n",
       "      <th>Arr_Day</th>\n",
       "      <th>Weekend_Stay</th>\n",
       "      <th>Week_Stay</th>\n",
       "      <th>Adults</th>\n",
       "      <th>...</th>\n",
       "      <th>Waiting_Days</th>\n",
       "      <th>Customer_Type</th>\n",
       "      <th>Avg_Daily_Rate</th>\n",
       "      <th>Parking_Space</th>\n",
       "      <th>Special_Request</th>\n",
       "      <th>Reservation_Status</th>\n",
       "      <th>Reservation_Date</th>\n",
       "      <th>Kids</th>\n",
       "      <th>Total_Guest</th>\n",
       "      <th>Arrival_Date</th>\n",
       "    </tr>\n",
       "  </thead>\n",
       "  <tbody>\n",
       "    <tr>\n",
       "      <th>0</th>\n",
       "      <td>Resort Hotel</td>\n",
       "      <td>0</td>\n",
       "      <td>342</td>\n",
       "      <td>2015</td>\n",
       "      <td>July</td>\n",
       "      <td>27</td>\n",
       "      <td>1</td>\n",
       "      <td>0</td>\n",
       "      <td>0</td>\n",
       "      <td>2</td>\n",
       "      <td>...</td>\n",
       "      <td>0</td>\n",
       "      <td>Transient</td>\n",
       "      <td>0.0</td>\n",
       "      <td>0</td>\n",
       "      <td>0</td>\n",
       "      <td>Check-Out</td>\n",
       "      <td>7/1/2015</td>\n",
       "      <td>0</td>\n",
       "      <td>2</td>\n",
       "      <td>2015-07-01</td>\n",
       "    </tr>\n",
       "    <tr>\n",
       "      <th>1</th>\n",
       "      <td>Resort Hotel</td>\n",
       "      <td>0</td>\n",
       "      <td>737</td>\n",
       "      <td>2015</td>\n",
       "      <td>July</td>\n",
       "      <td>27</td>\n",
       "      <td>1</td>\n",
       "      <td>0</td>\n",
       "      <td>0</td>\n",
       "      <td>2</td>\n",
       "      <td>...</td>\n",
       "      <td>0</td>\n",
       "      <td>Transient</td>\n",
       "      <td>0.0</td>\n",
       "      <td>0</td>\n",
       "      <td>0</td>\n",
       "      <td>Check-Out</td>\n",
       "      <td>7/1/2015</td>\n",
       "      <td>0</td>\n",
       "      <td>2</td>\n",
       "      <td>2015-07-01</td>\n",
       "    </tr>\n",
       "  </tbody>\n",
       "</table>\n",
       "<p>2 rows × 33 columns</p>\n",
       "</div>"
      ],
      "text/plain": [
       "          Hotel  Canceled  LeadTime Arr_Year Arr_Month  Arr_Week Arr_Day  \\\n",
       "0  Resort Hotel         0       342     2015      July        27       1   \n",
       "1  Resort Hotel         0       737     2015      July        27       1   \n",
       "\n",
       "   Weekend_Stay  Week_Stay  Adults  ...  Waiting_Days  Customer_Type  \\\n",
       "0             0          0       2  ...             0      Transient   \n",
       "1             0          0       2  ...             0      Transient   \n",
       "\n",
       "  Avg_Daily_Rate Parking_Space Special_Request Reservation_Status  \\\n",
       "0            0.0             0               0          Check-Out   \n",
       "1            0.0             0               0          Check-Out   \n",
       "\n",
       "   Reservation_Date  Kids  Total_Guest Arrival_Date  \n",
       "0          7/1/2015     0            2   2015-07-01  \n",
       "1          7/1/2015     0            2   2015-07-01  \n",
       "\n",
       "[2 rows x 33 columns]"
      ]
     },
     "execution_count": 31,
     "metadata": {},
     "output_type": "execute_result"
    }
   ],
   "source": [
    "hotel.head(2)"
   ]
  },
  {
   "cell_type": "markdown",
   "id": "3b8e945e-90f2-4787-a141-26ec54281289",
   "metadata": {},
   "source": [
    "***Number of Canceled***"
   ]
  },
  {
   "cell_type": "code",
   "execution_count": 32,
   "id": "609685ff-eef1-4e34-ab46-1190fc3ecff5",
   "metadata": {
    "tags": []
   },
   "outputs": [
    {
     "data": {
      "text/plain": [
       "Canceled        1\n",
       "count       44153\n",
       "Name: 1, dtype: int64"
      ]
     },
     "execution_count": 32,
     "metadata": {},
     "output_type": "execute_result"
    }
   ],
   "source": [
    "cancel = hotel['Canceled'].value_counts().to_frame().reset_index()\n",
    "cancel.loc[1]"
   ]
  },
  {
   "cell_type": "code",
   "execution_count": 33,
   "id": "ae636887-6c8b-4ae7-9089-47f347e94e1b",
   "metadata": {
    "tags": []
   },
   "outputs": [],
   "source": [
    "#cancel.to_csv('total_cancel.csv')"
   ]
  },
  {
   "cell_type": "markdown",
   "id": "175c107e-0db4-4264-978c-a8b37cc5162a",
   "metadata": {},
   "source": [
    "***Booked by Top 10 Countries***"
   ]
  },
  {
   "cell_type": "code",
   "execution_count": 34,
   "id": "c5062460-7744-4128-ba6d-3842c4a1c10a",
   "metadata": {
    "tags": []
   },
   "outputs": [
    {
     "data": {
      "text/html": [
       "<div>\n",
       "<style scoped>\n",
       "    .dataframe tbody tr th:only-of-type {\n",
       "        vertical-align: middle;\n",
       "    }\n",
       "\n",
       "    .dataframe tbody tr th {\n",
       "        vertical-align: top;\n",
       "    }\n",
       "\n",
       "    .dataframe thead th {\n",
       "        text-align: right;\n",
       "    }\n",
       "</style>\n",
       "<table border=\"1\" class=\"dataframe\">\n",
       "  <thead>\n",
       "    <tr style=\"text-align: right;\">\n",
       "      <th></th>\n",
       "      <th>Country</th>\n",
       "      <th>count</th>\n",
       "    </tr>\n",
       "  </thead>\n",
       "  <tbody>\n",
       "    <tr>\n",
       "      <th>0</th>\n",
       "      <td>PRT</td>\n",
       "      <td>48586</td>\n",
       "    </tr>\n",
       "    <tr>\n",
       "      <th>1</th>\n",
       "      <td>GBR</td>\n",
       "      <td>12129</td>\n",
       "    </tr>\n",
       "    <tr>\n",
       "      <th>2</th>\n",
       "      <td>FRA</td>\n",
       "      <td>10415</td>\n",
       "    </tr>\n",
       "    <tr>\n",
       "      <th>3</th>\n",
       "      <td>ESP</td>\n",
       "      <td>8568</td>\n",
       "    </tr>\n",
       "    <tr>\n",
       "      <th>4</th>\n",
       "      <td>DEU</td>\n",
       "      <td>7287</td>\n",
       "    </tr>\n",
       "    <tr>\n",
       "      <th>5</th>\n",
       "      <td>ITA</td>\n",
       "      <td>3766</td>\n",
       "    </tr>\n",
       "    <tr>\n",
       "      <th>6</th>\n",
       "      <td>IRL</td>\n",
       "      <td>3375</td>\n",
       "    </tr>\n",
       "    <tr>\n",
       "      <th>7</th>\n",
       "      <td>BEL</td>\n",
       "      <td>2342</td>\n",
       "    </tr>\n",
       "    <tr>\n",
       "      <th>8</th>\n",
       "      <td>BRA</td>\n",
       "      <td>2224</td>\n",
       "    </tr>\n",
       "    <tr>\n",
       "      <th>9</th>\n",
       "      <td>NLD</td>\n",
       "      <td>2104</td>\n",
       "    </tr>\n",
       "  </tbody>\n",
       "</table>\n",
       "</div>"
      ],
      "text/plain": [
       "  Country  count\n",
       "0     PRT  48586\n",
       "1     GBR  12129\n",
       "2     FRA  10415\n",
       "3     ESP   8568\n",
       "4     DEU   7287\n",
       "5     ITA   3766\n",
       "6     IRL   3375\n",
       "7     BEL   2342\n",
       "8     BRA   2224\n",
       "9     NLD   2104"
      ]
     },
     "execution_count": 34,
     "metadata": {},
     "output_type": "execute_result"
    }
   ],
   "source": [
    "country = hotel['Country'].value_counts().to_frame().reset_index()\n",
    "country.head(10)"
   ]
  },
  {
   "cell_type": "code",
   "execution_count": 35,
   "id": "6ae298c9-1501-4d50-a3bf-656fe196f068",
   "metadata": {
    "tags": []
   },
   "outputs": [],
   "source": [
    "#country.to_csv('booked_by_country.csv')"
   ]
  },
  {
   "cell_type": "markdown",
   "id": "eecd08e7-e73d-47b9-b028-60ee033ff8ff",
   "metadata": {},
   "source": [
    "***Booked by Month***"
   ]
  },
  {
   "cell_type": "code",
   "execution_count": 36,
   "id": "5c994531-8047-42e2-b2a4-79c745a5a017",
   "metadata": {
    "tags": []
   },
   "outputs": [
    {
     "data": {
      "text/html": [
       "<div>\n",
       "<style scoped>\n",
       "    .dataframe tbody tr th:only-of-type {\n",
       "        vertical-align: middle;\n",
       "    }\n",
       "\n",
       "    .dataframe tbody tr th {\n",
       "        vertical-align: top;\n",
       "    }\n",
       "\n",
       "    .dataframe thead th {\n",
       "        text-align: right;\n",
       "    }\n",
       "</style>\n",
       "<table border=\"1\" class=\"dataframe\">\n",
       "  <thead>\n",
       "    <tr style=\"text-align: right;\">\n",
       "      <th></th>\n",
       "      <th>Arr_Month</th>\n",
       "      <th>count</th>\n",
       "    </tr>\n",
       "  </thead>\n",
       "  <tbody>\n",
       "    <tr>\n",
       "      <th>0</th>\n",
       "      <td>August</td>\n",
       "      <td>13852</td>\n",
       "    </tr>\n",
       "    <tr>\n",
       "      <th>1</th>\n",
       "      <td>July</td>\n",
       "      <td>12628</td>\n",
       "    </tr>\n",
       "    <tr>\n",
       "      <th>2</th>\n",
       "      <td>May</td>\n",
       "      <td>11779</td>\n",
       "    </tr>\n",
       "    <tr>\n",
       "      <th>3</th>\n",
       "      <td>October</td>\n",
       "      <td>11095</td>\n",
       "    </tr>\n",
       "    <tr>\n",
       "      <th>4</th>\n",
       "      <td>April</td>\n",
       "      <td>11045</td>\n",
       "    </tr>\n",
       "    <tr>\n",
       "      <th>5</th>\n",
       "      <td>June</td>\n",
       "      <td>10927</td>\n",
       "    </tr>\n",
       "    <tr>\n",
       "      <th>6</th>\n",
       "      <td>September</td>\n",
       "      <td>10467</td>\n",
       "    </tr>\n",
       "    <tr>\n",
       "      <th>7</th>\n",
       "      <td>March</td>\n",
       "      <td>9739</td>\n",
       "    </tr>\n",
       "    <tr>\n",
       "      <th>8</th>\n",
       "      <td>February</td>\n",
       "      <td>8012</td>\n",
       "    </tr>\n",
       "    <tr>\n",
       "      <th>9</th>\n",
       "      <td>November</td>\n",
       "      <td>6752</td>\n",
       "    </tr>\n",
       "    <tr>\n",
       "      <th>10</th>\n",
       "      <td>December</td>\n",
       "      <td>6728</td>\n",
       "    </tr>\n",
       "    <tr>\n",
       "      <th>11</th>\n",
       "      <td>January</td>\n",
       "      <td>5874</td>\n",
       "    </tr>\n",
       "  </tbody>\n",
       "</table>\n",
       "</div>"
      ],
      "text/plain": [
       "    Arr_Month  count\n",
       "0      August  13852\n",
       "1        July  12628\n",
       "2         May  11779\n",
       "3     October  11095\n",
       "4       April  11045\n",
       "5        June  10927\n",
       "6   September  10467\n",
       "7       March   9739\n",
       "8    February   8012\n",
       "9    November   6752\n",
       "10   December   6728\n",
       "11    January   5874"
      ]
     },
     "execution_count": 36,
     "metadata": {},
     "output_type": "execute_result"
    }
   ],
   "source": [
    "month = hotel['Arr_Month'].value_counts().to_frame().reset_index()\n",
    "month"
   ]
  },
  {
   "cell_type": "code",
   "execution_count": 37,
   "id": "cdbc1ce4-3b2b-47ba-a9bf-8d306e708e75",
   "metadata": {
    "tags": []
   },
   "outputs": [],
   "source": [
    "#month.to_excel('booked_by_month.xlsx')"
   ]
  },
  {
   "cell_type": "markdown",
   "id": "41e24d0b-b272-4716-80d9-35a2b969c34b",
   "metadata": {},
   "source": [
    "***Market Segment***"
   ]
  },
  {
   "cell_type": "code",
   "execution_count": 38,
   "id": "e9414568-4f50-43fd-8df0-bc5e04ed4926",
   "metadata": {
    "tags": []
   },
   "outputs": [
    {
     "data": {
      "text/html": [
       "<div>\n",
       "<style scoped>\n",
       "    .dataframe tbody tr th:only-of-type {\n",
       "        vertical-align: middle;\n",
       "    }\n",
       "\n",
       "    .dataframe tbody tr th {\n",
       "        vertical-align: top;\n",
       "    }\n",
       "\n",
       "    .dataframe thead th {\n",
       "        text-align: right;\n",
       "    }\n",
       "</style>\n",
       "<table border=\"1\" class=\"dataframe\">\n",
       "  <thead>\n",
       "    <tr style=\"text-align: right;\">\n",
       "      <th></th>\n",
       "      <th>Market_Segment</th>\n",
       "      <th>count</th>\n",
       "    </tr>\n",
       "  </thead>\n",
       "  <tbody>\n",
       "    <tr>\n",
       "      <th>0</th>\n",
       "      <td>Online TA</td>\n",
       "      <td>56402</td>\n",
       "    </tr>\n",
       "    <tr>\n",
       "      <th>1</th>\n",
       "      <td>Offline TA/TO</td>\n",
       "      <td>24160</td>\n",
       "    </tr>\n",
       "    <tr>\n",
       "      <th>2</th>\n",
       "      <td>Groups</td>\n",
       "      <td>19806</td>\n",
       "    </tr>\n",
       "    <tr>\n",
       "      <th>3</th>\n",
       "      <td>Direct</td>\n",
       "      <td>12448</td>\n",
       "    </tr>\n",
       "    <tr>\n",
       "      <th>4</th>\n",
       "      <td>Corporate</td>\n",
       "      <td>5111</td>\n",
       "    </tr>\n",
       "    <tr>\n",
       "      <th>5</th>\n",
       "      <td>Complementary</td>\n",
       "      <td>734</td>\n",
       "    </tr>\n",
       "    <tr>\n",
       "      <th>6</th>\n",
       "      <td>Aviation</td>\n",
       "      <td>237</td>\n",
       "    </tr>\n",
       "  </tbody>\n",
       "</table>\n",
       "</div>"
      ],
      "text/plain": [
       "  Market_Segment  count\n",
       "0      Online TA  56402\n",
       "1  Offline TA/TO  24160\n",
       "2         Groups  19806\n",
       "3         Direct  12448\n",
       "4      Corporate   5111\n",
       "5  Complementary    734\n",
       "6       Aviation    237"
      ]
     },
     "execution_count": 38,
     "metadata": {},
     "output_type": "execute_result"
    }
   ],
   "source": [
    "m_seg = hotel['Market_Segment'].value_counts().to_frame().reset_index()\n",
    "m_seg"
   ]
  },
  {
   "cell_type": "code",
   "execution_count": 39,
   "id": "4dea900a-59f2-4d7b-9c62-89949746a239",
   "metadata": {
    "tags": []
   },
   "outputs": [],
   "source": [
    "#m_seg.to_csv('booked_by_m_seg.csv')"
   ]
  },
  {
   "cell_type": "markdown",
   "id": "f06a69e9-474a-4788-80c3-e9180f5d5d87",
   "metadata": {},
   "source": [
    "***Booked by year***"
   ]
  },
  {
   "cell_type": "code",
   "execution_count": 40,
   "id": "7b3e2f09-46e0-4646-a81b-40bb143cdf82",
   "metadata": {
    "tags": []
   },
   "outputs": [
    {
     "data": {
      "text/html": [
       "<div>\n",
       "<style scoped>\n",
       "    .dataframe tbody tr th:only-of-type {\n",
       "        vertical-align: middle;\n",
       "    }\n",
       "\n",
       "    .dataframe tbody tr th {\n",
       "        vertical-align: top;\n",
       "    }\n",
       "\n",
       "    .dataframe thead th {\n",
       "        text-align: right;\n",
       "    }\n",
       "</style>\n",
       "<table border=\"1\" class=\"dataframe\">\n",
       "  <thead>\n",
       "    <tr style=\"text-align: right;\">\n",
       "      <th></th>\n",
       "      <th>Arr_Year</th>\n",
       "      <th>count</th>\n",
       "    </tr>\n",
       "  </thead>\n",
       "  <tbody>\n",
       "    <tr>\n",
       "      <th>0</th>\n",
       "      <td>2016</td>\n",
       "      <td>56435</td>\n",
       "    </tr>\n",
       "    <tr>\n",
       "      <th>1</th>\n",
       "      <td>2017</td>\n",
       "      <td>40604</td>\n",
       "    </tr>\n",
       "    <tr>\n",
       "      <th>2</th>\n",
       "      <td>2015</td>\n",
       "      <td>21859</td>\n",
       "    </tr>\n",
       "  </tbody>\n",
       "</table>\n",
       "</div>"
      ],
      "text/plain": [
       "  Arr_Year  count\n",
       "0     2016  56435\n",
       "1     2017  40604\n",
       "2     2015  21859"
      ]
     },
     "execution_count": 40,
     "metadata": {},
     "output_type": "execute_result"
    }
   ],
   "source": [
    "year = hotel['Arr_Year'].value_counts().to_frame().reset_index()\n",
    "year"
   ]
  },
  {
   "cell_type": "code",
   "execution_count": 41,
   "id": "862e9735-9190-47d8-a634-cef3033e9832",
   "metadata": {
    "tags": []
   },
   "outputs": [],
   "source": [
    "#year.to_csv('booked_by_year.csv')"
   ]
  },
  {
   "cell_type": "markdown",
   "id": "a88009b3-d3fd-4d11-abb4-7a533c9a09d2",
   "metadata": {},
   "source": [
    "***Meal_Reserved***"
   ]
  },
  {
   "cell_type": "code",
   "execution_count": 42,
   "id": "94187e79-f1d6-473b-9e3e-1d36f9ca2c31",
   "metadata": {
    "tags": []
   },
   "outputs": [
    {
     "data": {
      "text/html": [
       "<div>\n",
       "<style scoped>\n",
       "    .dataframe tbody tr th:only-of-type {\n",
       "        vertical-align: middle;\n",
       "    }\n",
       "\n",
       "    .dataframe tbody tr th {\n",
       "        vertical-align: top;\n",
       "    }\n",
       "\n",
       "    .dataframe thead th {\n",
       "        text-align: right;\n",
       "    }\n",
       "</style>\n",
       "<table border=\"1\" class=\"dataframe\">\n",
       "  <thead>\n",
       "    <tr style=\"text-align: right;\">\n",
       "      <th></th>\n",
       "      <th>Meal</th>\n",
       "      <th>count</th>\n",
       "    </tr>\n",
       "  </thead>\n",
       "  <tbody>\n",
       "    <tr>\n",
       "      <th>0</th>\n",
       "      <td>BB</td>\n",
       "      <td>91863</td>\n",
       "    </tr>\n",
       "    <tr>\n",
       "      <th>1</th>\n",
       "      <td>HB</td>\n",
       "      <td>14434</td>\n",
       "    </tr>\n",
       "    <tr>\n",
       "      <th>2</th>\n",
       "      <td>SC</td>\n",
       "      <td>10638</td>\n",
       "    </tr>\n",
       "    <tr>\n",
       "      <th>3</th>\n",
       "      <td>Undefined</td>\n",
       "      <td>1165</td>\n",
       "    </tr>\n",
       "    <tr>\n",
       "      <th>4</th>\n",
       "      <td>FB</td>\n",
       "      <td>798</td>\n",
       "    </tr>\n",
       "  </tbody>\n",
       "</table>\n",
       "</div>"
      ],
      "text/plain": [
       "        Meal  count\n",
       "0         BB  91863\n",
       "1         HB  14434\n",
       "2         SC  10638\n",
       "3  Undefined   1165\n",
       "4         FB    798"
      ]
     },
     "execution_count": 42,
     "metadata": {},
     "output_type": "execute_result"
    }
   ],
   "source": [
    "meal = hotel['Meal'].value_counts().to_frame().reset_index()\n",
    "meal"
   ]
  },
  {
   "cell_type": "code",
   "execution_count": 43,
   "id": "acf8b228-2638-4993-bba1-27a6eb6bdbe0",
   "metadata": {
    "tags": []
   },
   "outputs": [],
   "source": [
    "#meal.to_excel('meal_reserve.xlsx')"
   ]
  },
  {
   "cell_type": "markdown",
   "id": "31b5a700-8a20-4bac-804c-80537b67d1d0",
   "metadata": {},
   "source": [
    "***Booked_by_Customer_Type***"
   ]
  },
  {
   "cell_type": "code",
   "execution_count": 44,
   "id": "e8208115-0682-49b8-8b3c-96ad2299fd8e",
   "metadata": {
    "tags": []
   },
   "outputs": [
    {
     "data": {
      "text/html": [
       "<div>\n",
       "<style scoped>\n",
       "    .dataframe tbody tr th:only-of-type {\n",
       "        vertical-align: middle;\n",
       "    }\n",
       "\n",
       "    .dataframe tbody tr th {\n",
       "        vertical-align: top;\n",
       "    }\n",
       "\n",
       "    .dataframe thead th {\n",
       "        text-align: right;\n",
       "    }\n",
       "</style>\n",
       "<table border=\"1\" class=\"dataframe\">\n",
       "  <thead>\n",
       "    <tr style=\"text-align: right;\">\n",
       "      <th></th>\n",
       "      <th>Customer_Type</th>\n",
       "      <th>count</th>\n",
       "    </tr>\n",
       "  </thead>\n",
       "  <tbody>\n",
       "    <tr>\n",
       "      <th>0</th>\n",
       "      <td>Transient</td>\n",
       "      <td>89174</td>\n",
       "    </tr>\n",
       "    <tr>\n",
       "      <th>1</th>\n",
       "      <td>Transient-Party</td>\n",
       "      <td>25078</td>\n",
       "    </tr>\n",
       "    <tr>\n",
       "      <th>2</th>\n",
       "      <td>Contract</td>\n",
       "      <td>4076</td>\n",
       "    </tr>\n",
       "    <tr>\n",
       "      <th>3</th>\n",
       "      <td>Group</td>\n",
       "      <td>570</td>\n",
       "    </tr>\n",
       "  </tbody>\n",
       "</table>\n",
       "</div>"
      ],
      "text/plain": [
       "     Customer_Type  count\n",
       "0        Transient  89174\n",
       "1  Transient-Party  25078\n",
       "2         Contract   4076\n",
       "3            Group    570"
      ]
     },
     "execution_count": 44,
     "metadata": {},
     "output_type": "execute_result"
    }
   ],
   "source": [
    "cus_type = hotel['Customer_Type'].value_counts().to_frame().reset_index()\n",
    "cus_type"
   ]
  },
  {
   "cell_type": "code",
   "execution_count": 45,
   "id": "fee9412a-cfad-42f4-9b29-560b1525cec7",
   "metadata": {
    "tags": []
   },
   "outputs": [],
   "source": [
    "#cus_type.to_csv('booked_cus_type.csv')"
   ]
  },
  {
   "cell_type": "markdown",
   "id": "9692468b-db73-4162-8141-3f08051b5ec8",
   "metadata": {},
   "source": [
    "***Bookedy By Reservation Status***"
   ]
  },
  {
   "cell_type": "code",
   "execution_count": 46,
   "id": "47f9b39e-0d43-4842-86a2-cc926a6e09c3",
   "metadata": {
    "tags": []
   },
   "outputs": [
    {
     "data": {
      "text/html": [
       "<div>\n",
       "<style scoped>\n",
       "    .dataframe tbody tr th:only-of-type {\n",
       "        vertical-align: middle;\n",
       "    }\n",
       "\n",
       "    .dataframe tbody tr th {\n",
       "        vertical-align: top;\n",
       "    }\n",
       "\n",
       "    .dataframe thead th {\n",
       "        text-align: right;\n",
       "    }\n",
       "</style>\n",
       "<table border=\"1\" class=\"dataframe\">\n",
       "  <thead>\n",
       "    <tr style=\"text-align: right;\">\n",
       "      <th></th>\n",
       "      <th>Reservation_Status</th>\n",
       "      <th>count</th>\n",
       "    </tr>\n",
       "  </thead>\n",
       "  <tbody>\n",
       "    <tr>\n",
       "      <th>0</th>\n",
       "      <td>Check-Out</td>\n",
       "      <td>74745</td>\n",
       "    </tr>\n",
       "    <tr>\n",
       "      <th>1</th>\n",
       "      <td>Canceled</td>\n",
       "      <td>42950</td>\n",
       "    </tr>\n",
       "    <tr>\n",
       "      <th>2</th>\n",
       "      <td>No-Show</td>\n",
       "      <td>1203</td>\n",
       "    </tr>\n",
       "  </tbody>\n",
       "</table>\n",
       "</div>"
      ],
      "text/plain": [
       "  Reservation_Status  count\n",
       "0          Check-Out  74745\n",
       "1           Canceled  42950\n",
       "2            No-Show   1203"
      ]
     },
     "execution_count": 46,
     "metadata": {},
     "output_type": "execute_result"
    }
   ],
   "source": [
    "res_status = hotel['Reservation_Status'].value_counts().to_frame().reset_index()\n",
    "res_status"
   ]
  },
  {
   "cell_type": "code",
   "execution_count": 47,
   "id": "ea439712-a4c9-4c6c-aae6-be33fe33c583",
   "metadata": {
    "tags": []
   },
   "outputs": [],
   "source": [
    "#res_status.to_csv('booked_by_reservation_status.csv')"
   ]
  },
  {
   "cell_type": "markdown",
   "id": "7b1fcf28-3eba-48c0-a3be-1bd7da120dcd",
   "metadata": {},
   "source": [
    "<i><h3 style='font-family:Helvitica; color:Crimson'>Create Actual Guests dataframe</h3>"
   ]
  },
  {
   "cell_type": "code",
   "execution_count": 48,
   "id": "081b6271-1af9-4096-8723-b5010904eee1",
   "metadata": {
    "tags": []
   },
   "outputs": [
    {
     "data": {
      "text/plain": [
       "(74745, 33)"
      ]
     },
     "execution_count": 48,
     "metadata": {},
     "output_type": "execute_result"
    }
   ],
   "source": [
    "actual_guests = hotel[hotel['Canceled'] == 0]\n",
    "actual_guests.shape"
   ]
  },
  {
   "cell_type": "code",
   "execution_count": 49,
   "id": "80705c83-25de-4af8-a1ef-67c6d5f06884",
   "metadata": {
    "tags": []
   },
   "outputs": [
    {
     "data": {
      "text/html": [
       "<div>\n",
       "<style scoped>\n",
       "    .dataframe tbody tr th:only-of-type {\n",
       "        vertical-align: middle;\n",
       "    }\n",
       "\n",
       "    .dataframe tbody tr th {\n",
       "        vertical-align: top;\n",
       "    }\n",
       "\n",
       "    .dataframe thead th {\n",
       "        text-align: right;\n",
       "    }\n",
       "</style>\n",
       "<table border=\"1\" class=\"dataframe\">\n",
       "  <thead>\n",
       "    <tr style=\"text-align: right;\">\n",
       "      <th></th>\n",
       "      <th>Hotel</th>\n",
       "      <th>Canceled</th>\n",
       "      <th>LeadTime</th>\n",
       "      <th>Arr_Year</th>\n",
       "      <th>Arr_Month</th>\n",
       "      <th>Arr_Week</th>\n",
       "      <th>Arr_Day</th>\n",
       "      <th>Weekend_Stay</th>\n",
       "      <th>Week_Stay</th>\n",
       "      <th>Adults</th>\n",
       "      <th>...</th>\n",
       "      <th>Waiting_Days</th>\n",
       "      <th>Customer_Type</th>\n",
       "      <th>Avg_Daily_Rate</th>\n",
       "      <th>Parking_Space</th>\n",
       "      <th>Special_Request</th>\n",
       "      <th>Reservation_Status</th>\n",
       "      <th>Reservation_Date</th>\n",
       "      <th>Kids</th>\n",
       "      <th>Total_Guest</th>\n",
       "      <th>Arrival_Date</th>\n",
       "    </tr>\n",
       "  </thead>\n",
       "  <tbody>\n",
       "    <tr>\n",
       "      <th>0</th>\n",
       "      <td>Resort Hotel</td>\n",
       "      <td>0</td>\n",
       "      <td>342</td>\n",
       "      <td>2015</td>\n",
       "      <td>July</td>\n",
       "      <td>27</td>\n",
       "      <td>1</td>\n",
       "      <td>0</td>\n",
       "      <td>0</td>\n",
       "      <td>2</td>\n",
       "      <td>...</td>\n",
       "      <td>0</td>\n",
       "      <td>Transient</td>\n",
       "      <td>0.0</td>\n",
       "      <td>0</td>\n",
       "      <td>0</td>\n",
       "      <td>Check-Out</td>\n",
       "      <td>7/1/2015</td>\n",
       "      <td>0</td>\n",
       "      <td>2</td>\n",
       "      <td>2015-07-01</td>\n",
       "    </tr>\n",
       "    <tr>\n",
       "      <th>1</th>\n",
       "      <td>Resort Hotel</td>\n",
       "      <td>0</td>\n",
       "      <td>737</td>\n",
       "      <td>2015</td>\n",
       "      <td>July</td>\n",
       "      <td>27</td>\n",
       "      <td>1</td>\n",
       "      <td>0</td>\n",
       "      <td>0</td>\n",
       "      <td>2</td>\n",
       "      <td>...</td>\n",
       "      <td>0</td>\n",
       "      <td>Transient</td>\n",
       "      <td>0.0</td>\n",
       "      <td>0</td>\n",
       "      <td>0</td>\n",
       "      <td>Check-Out</td>\n",
       "      <td>7/1/2015</td>\n",
       "      <td>0</td>\n",
       "      <td>2</td>\n",
       "      <td>2015-07-01</td>\n",
       "    </tr>\n",
       "    <tr>\n",
       "      <th>2</th>\n",
       "      <td>Resort Hotel</td>\n",
       "      <td>0</td>\n",
       "      <td>7</td>\n",
       "      <td>2015</td>\n",
       "      <td>July</td>\n",
       "      <td>27</td>\n",
       "      <td>1</td>\n",
       "      <td>0</td>\n",
       "      <td>1</td>\n",
       "      <td>1</td>\n",
       "      <td>...</td>\n",
       "      <td>0</td>\n",
       "      <td>Transient</td>\n",
       "      <td>75.0</td>\n",
       "      <td>0</td>\n",
       "      <td>0</td>\n",
       "      <td>Check-Out</td>\n",
       "      <td>7/2/2015</td>\n",
       "      <td>0</td>\n",
       "      <td>1</td>\n",
       "      <td>2015-07-01</td>\n",
       "    </tr>\n",
       "    <tr>\n",
       "      <th>3</th>\n",
       "      <td>Resort Hotel</td>\n",
       "      <td>0</td>\n",
       "      <td>13</td>\n",
       "      <td>2015</td>\n",
       "      <td>July</td>\n",
       "      <td>27</td>\n",
       "      <td>1</td>\n",
       "      <td>0</td>\n",
       "      <td>1</td>\n",
       "      <td>1</td>\n",
       "      <td>...</td>\n",
       "      <td>0</td>\n",
       "      <td>Transient</td>\n",
       "      <td>75.0</td>\n",
       "      <td>0</td>\n",
       "      <td>0</td>\n",
       "      <td>Check-Out</td>\n",
       "      <td>7/2/2015</td>\n",
       "      <td>0</td>\n",
       "      <td>1</td>\n",
       "      <td>2015-07-01</td>\n",
       "    </tr>\n",
       "    <tr>\n",
       "      <th>4</th>\n",
       "      <td>Resort Hotel</td>\n",
       "      <td>0</td>\n",
       "      <td>14</td>\n",
       "      <td>2015</td>\n",
       "      <td>July</td>\n",
       "      <td>27</td>\n",
       "      <td>1</td>\n",
       "      <td>0</td>\n",
       "      <td>2</td>\n",
       "      <td>2</td>\n",
       "      <td>...</td>\n",
       "      <td>0</td>\n",
       "      <td>Transient</td>\n",
       "      <td>98.0</td>\n",
       "      <td>0</td>\n",
       "      <td>1</td>\n",
       "      <td>Check-Out</td>\n",
       "      <td>7/3/2015</td>\n",
       "      <td>0</td>\n",
       "      <td>2</td>\n",
       "      <td>2015-07-01</td>\n",
       "    </tr>\n",
       "  </tbody>\n",
       "</table>\n",
       "<p>5 rows × 33 columns</p>\n",
       "</div>"
      ],
      "text/plain": [
       "          Hotel  Canceled  LeadTime Arr_Year Arr_Month  Arr_Week Arr_Day  \\\n",
       "0  Resort Hotel         0       342     2015      July        27       1   \n",
       "1  Resort Hotel         0       737     2015      July        27       1   \n",
       "2  Resort Hotel         0         7     2015      July        27       1   \n",
       "3  Resort Hotel         0        13     2015      July        27       1   \n",
       "4  Resort Hotel         0        14     2015      July        27       1   \n",
       "\n",
       "   Weekend_Stay  Week_Stay  Adults  ...  Waiting_Days  Customer_Type  \\\n",
       "0             0          0       2  ...             0      Transient   \n",
       "1             0          0       2  ...             0      Transient   \n",
       "2             0          1       1  ...             0      Transient   \n",
       "3             0          1       1  ...             0      Transient   \n",
       "4             0          2       2  ...             0      Transient   \n",
       "\n",
       "  Avg_Daily_Rate Parking_Space Special_Request Reservation_Status  \\\n",
       "0            0.0             0               0          Check-Out   \n",
       "1            0.0             0               0          Check-Out   \n",
       "2           75.0             0               0          Check-Out   \n",
       "3           75.0             0               0          Check-Out   \n",
       "4           98.0             0               1          Check-Out   \n",
       "\n",
       "   Reservation_Date  Kids  Total_Guest Arrival_Date  \n",
       "0          7/1/2015     0            2   2015-07-01  \n",
       "1          7/1/2015     0            2   2015-07-01  \n",
       "2          7/2/2015     0            1   2015-07-01  \n",
       "3          7/2/2015     0            1   2015-07-01  \n",
       "4          7/3/2015     0            2   2015-07-01  \n",
       "\n",
       "[5 rows x 33 columns]"
      ]
     },
     "execution_count": 49,
     "metadata": {},
     "output_type": "execute_result"
    }
   ],
   "source": [
    "actual_guests.head()"
   ]
  },
  {
   "cell_type": "markdown",
   "id": "95283b49-5796-4fea-8bdb-b786c4b5ed7e",
   "metadata": {},
   "source": [
    "***Actual Stay at Weekday & Weekend night***"
   ]
  },
  {
   "cell_type": "code",
   "execution_count": 50,
   "id": "045c49c0-db45-49c2-953f-09a552d01c91",
   "metadata": {
    "tags": []
   },
   "outputs": [
    {
     "data": {
      "text/plain": [
       "74745"
      ]
     },
     "execution_count": 50,
     "metadata": {},
     "output_type": "execute_result"
    }
   ],
   "source": [
    "actual_stay = actual_guests['Weekend_Stay'] + actual_guests['Week_Stay']\n",
    "actual_stay.shape[0]"
   ]
  },
  {
   "cell_type": "markdown",
   "id": "7f190fda-ea47-4222-95d8-50274561b788",
   "metadata": {},
   "source": [
    "***Create `Price` column Avg daily rate by actual stay***"
   ]
  },
  {
   "cell_type": "code",
   "execution_count": 51,
   "id": "f6b80d14-678b-4a19-8a82-acf0d6020d15",
   "metadata": {
    "tags": []
   },
   "outputs": [
    {
     "name": "stderr",
     "output_type": "stream",
     "text": [
      "C:\\Users\\Exera\\AppData\\Local\\Temp\\ipykernel_12704\\902504704.py:1: SettingWithCopyWarning: \n",
      "A value is trying to be set on a copy of a slice from a DataFrame.\n",
      "Try using .loc[row_indexer,col_indexer] = value instead\n",
      "\n",
      "See the caveats in the documentation: https://pandas.pydata.org/pandas-docs/stable/user_guide/indexing.html#returning-a-view-versus-a-copy\n",
      "  actual_guests['Price'] = actual_guests['Avg_Daily_Rate']* actual_stay\n"
     ]
    }
   ],
   "source": [
    "actual_guests['Price'] = actual_guests['Avg_Daily_Rate']* actual_stay"
   ]
  },
  {
   "cell_type": "code",
   "execution_count": 52,
   "id": "a374398b-53e9-471c-ac71-bc9d5002941b",
   "metadata": {
    "tags": []
   },
   "outputs": [
    {
     "data": {
      "text/html": [
       "<div>\n",
       "<style scoped>\n",
       "    .dataframe tbody tr th:only-of-type {\n",
       "        vertical-align: middle;\n",
       "    }\n",
       "\n",
       "    .dataframe tbody tr th {\n",
       "        vertical-align: top;\n",
       "    }\n",
       "\n",
       "    .dataframe thead th {\n",
       "        text-align: right;\n",
       "    }\n",
       "</style>\n",
       "<table border=\"1\" class=\"dataframe\">\n",
       "  <thead>\n",
       "    <tr style=\"text-align: right;\">\n",
       "      <th></th>\n",
       "      <th>Hotel</th>\n",
       "      <th>Canceled</th>\n",
       "      <th>LeadTime</th>\n",
       "      <th>Arr_Year</th>\n",
       "      <th>Arr_Month</th>\n",
       "      <th>Arr_Week</th>\n",
       "      <th>Arr_Day</th>\n",
       "      <th>Weekend_Stay</th>\n",
       "      <th>Week_Stay</th>\n",
       "      <th>Adults</th>\n",
       "      <th>...</th>\n",
       "      <th>Customer_Type</th>\n",
       "      <th>Avg_Daily_Rate</th>\n",
       "      <th>Parking_Space</th>\n",
       "      <th>Special_Request</th>\n",
       "      <th>Reservation_Status</th>\n",
       "      <th>Reservation_Date</th>\n",
       "      <th>Kids</th>\n",
       "      <th>Total_Guest</th>\n",
       "      <th>Arrival_Date</th>\n",
       "      <th>Price</th>\n",
       "    </tr>\n",
       "  </thead>\n",
       "  <tbody>\n",
       "    <tr>\n",
       "      <th>119385</th>\n",
       "      <td>City Hotel</td>\n",
       "      <td>0</td>\n",
       "      <td>23</td>\n",
       "      <td>2017</td>\n",
       "      <td>August</td>\n",
       "      <td>35</td>\n",
       "      <td>30</td>\n",
       "      <td>2</td>\n",
       "      <td>5</td>\n",
       "      <td>2</td>\n",
       "      <td>...</td>\n",
       "      <td>Transient</td>\n",
       "      <td>96.14</td>\n",
       "      <td>0</td>\n",
       "      <td>0</td>\n",
       "      <td>Check-Out</td>\n",
       "      <td>9/6/2017</td>\n",
       "      <td>0</td>\n",
       "      <td>2</td>\n",
       "      <td>2017-08-30</td>\n",
       "      <td>672.98</td>\n",
       "    </tr>\n",
       "    <tr>\n",
       "      <th>119386</th>\n",
       "      <td>City Hotel</td>\n",
       "      <td>0</td>\n",
       "      <td>102</td>\n",
       "      <td>2017</td>\n",
       "      <td>August</td>\n",
       "      <td>35</td>\n",
       "      <td>31</td>\n",
       "      <td>2</td>\n",
       "      <td>5</td>\n",
       "      <td>3</td>\n",
       "      <td>...</td>\n",
       "      <td>Transient</td>\n",
       "      <td>225.43</td>\n",
       "      <td>0</td>\n",
       "      <td>2</td>\n",
       "      <td>Check-Out</td>\n",
       "      <td>9/7/2017</td>\n",
       "      <td>0</td>\n",
       "      <td>3</td>\n",
       "      <td>2017-08-31</td>\n",
       "      <td>1578.01</td>\n",
       "    </tr>\n",
       "    <tr>\n",
       "      <th>119387</th>\n",
       "      <td>City Hotel</td>\n",
       "      <td>0</td>\n",
       "      <td>34</td>\n",
       "      <td>2017</td>\n",
       "      <td>August</td>\n",
       "      <td>35</td>\n",
       "      <td>31</td>\n",
       "      <td>2</td>\n",
       "      <td>5</td>\n",
       "      <td>2</td>\n",
       "      <td>...</td>\n",
       "      <td>Transient</td>\n",
       "      <td>157.71</td>\n",
       "      <td>0</td>\n",
       "      <td>4</td>\n",
       "      <td>Check-Out</td>\n",
       "      <td>9/7/2017</td>\n",
       "      <td>0</td>\n",
       "      <td>2</td>\n",
       "      <td>2017-08-31</td>\n",
       "      <td>1103.97</td>\n",
       "    </tr>\n",
       "    <tr>\n",
       "      <th>119388</th>\n",
       "      <td>City Hotel</td>\n",
       "      <td>0</td>\n",
       "      <td>109</td>\n",
       "      <td>2017</td>\n",
       "      <td>August</td>\n",
       "      <td>35</td>\n",
       "      <td>31</td>\n",
       "      <td>2</td>\n",
       "      <td>5</td>\n",
       "      <td>2</td>\n",
       "      <td>...</td>\n",
       "      <td>Transient</td>\n",
       "      <td>104.40</td>\n",
       "      <td>0</td>\n",
       "      <td>0</td>\n",
       "      <td>Check-Out</td>\n",
       "      <td>9/7/2017</td>\n",
       "      <td>0</td>\n",
       "      <td>2</td>\n",
       "      <td>2017-08-31</td>\n",
       "      <td>730.80</td>\n",
       "    </tr>\n",
       "    <tr>\n",
       "      <th>119389</th>\n",
       "      <td>City Hotel</td>\n",
       "      <td>0</td>\n",
       "      <td>205</td>\n",
       "      <td>2017</td>\n",
       "      <td>August</td>\n",
       "      <td>35</td>\n",
       "      <td>29</td>\n",
       "      <td>2</td>\n",
       "      <td>7</td>\n",
       "      <td>2</td>\n",
       "      <td>...</td>\n",
       "      <td>Transient</td>\n",
       "      <td>151.20</td>\n",
       "      <td>0</td>\n",
       "      <td>2</td>\n",
       "      <td>Check-Out</td>\n",
       "      <td>9/7/2017</td>\n",
       "      <td>0</td>\n",
       "      <td>2</td>\n",
       "      <td>2017-08-29</td>\n",
       "      <td>1360.80</td>\n",
       "    </tr>\n",
       "  </tbody>\n",
       "</table>\n",
       "<p>5 rows × 34 columns</p>\n",
       "</div>"
      ],
      "text/plain": [
       "             Hotel  Canceled  LeadTime Arr_Year Arr_Month  Arr_Week Arr_Day  \\\n",
       "119385  City Hotel         0        23     2017    August        35      30   \n",
       "119386  City Hotel         0       102     2017    August        35      31   \n",
       "119387  City Hotel         0        34     2017    August        35      31   \n",
       "119388  City Hotel         0       109     2017    August        35      31   \n",
       "119389  City Hotel         0       205     2017    August        35      29   \n",
       "\n",
       "        Weekend_Stay  Week_Stay  Adults  ...  Customer_Type  Avg_Daily_Rate  \\\n",
       "119385             2          5       2  ...      Transient           96.14   \n",
       "119386             2          5       3  ...      Transient          225.43   \n",
       "119387             2          5       2  ...      Transient          157.71   \n",
       "119388             2          5       2  ...      Transient          104.40   \n",
       "119389             2          7       2  ...      Transient          151.20   \n",
       "\n",
       "       Parking_Space Special_Request Reservation_Status Reservation_Date  \\\n",
       "119385             0               0          Check-Out         9/6/2017   \n",
       "119386             0               2          Check-Out         9/7/2017   \n",
       "119387             0               4          Check-Out         9/7/2017   \n",
       "119388             0               0          Check-Out         9/7/2017   \n",
       "119389             0               2          Check-Out         9/7/2017   \n",
       "\n",
       "        Kids  Total_Guest  Arrival_Date    Price  \n",
       "119385     0            2    2017-08-30   672.98  \n",
       "119386     0            3    2017-08-31  1578.01  \n",
       "119387     0            2    2017-08-31  1103.97  \n",
       "119388     0            2    2017-08-31   730.80  \n",
       "119389     0            2    2017-08-29  1360.80  \n",
       "\n",
       "[5 rows x 34 columns]"
      ]
     },
     "execution_count": 52,
     "metadata": {},
     "output_type": "execute_result"
    }
   ],
   "source": [
    "actual_guests.tail()"
   ]
  },
  {
   "cell_type": "markdown",
   "id": "fef660c1-6d75-45fe-ba15-5f60dd9bcfa7",
   "metadata": {},
   "source": [
    "***Revenue by guests***"
   ]
  },
  {
   "cell_type": "code",
   "execution_count": 56,
   "id": "ef6e0423-ee71-4ef0-86ed-2e5d79b41c81",
   "metadata": {},
   "outputs": [
    {
     "data": {
      "text/plain": [
       "25908964.82"
      ]
     },
     "execution_count": 56,
     "metadata": {},
     "output_type": "execute_result"
    }
   ],
   "source": [
    "actual_guests['Price'].sum()"
   ]
  },
  {
   "cell_type": "code",
   "execution_count": 77,
   "id": "a2451571-c4ef-41a6-bce9-876e642bbc8d",
   "metadata": {
    "tags": []
   },
   "outputs": [],
   "source": [
    "a_rev = actual_guests['Avg_Daily_Rate'] * (actual_guests['Weekend_Stay'] + actual_guests['Week_Stay'])\n",
    "a_rev = a_rev.to_frame().reset_index()\n",
    "a_rev.columns = ['index', 'Price']\n",
    "a_rev.drop(columns=('index'), axis=1,inplace=True)"
   ]
  },
  {
   "cell_type": "code",
   "execution_count": 81,
   "id": "a4f6abc5-646f-4a88-9805-9b487138e2aa",
   "metadata": {
    "tags": []
   },
   "outputs": [],
   "source": [
    "#a_rev.to_csv('rev_by_act_guest.csv')"
   ]
  },
  {
   "cell_type": "markdown",
   "id": "55e39608-073d-42be-99f1-c532c80af566",
   "metadata": {},
   "source": [
    "***Revenue by booking***"
   ]
  },
  {
   "cell_type": "code",
   "execution_count": 85,
   "id": "e78893e4-004c-4a16-9bbb-73ea72453457",
   "metadata": {
    "tags": []
   },
   "outputs": [],
   "source": [
    "rev_book = hotel['Avg_Daily_Rate'] * (hotel['Week_Stay'] + hotel['Weekend_Stay'])\n",
    "rev_book = rev_book.to_frame().reset_index()\n",
    "rev_book.columns = ['index', 'Price_by_book']\n",
    "rev_book.drop(columns= ('index'), axis=1, inplace=True)"
   ]
  },
  {
   "cell_type": "code",
   "execution_count": 87,
   "id": "fbb57f19-ab6d-4fff-b784-21d29d0a2bea",
   "metadata": {
    "tags": []
   },
   "outputs": [],
   "source": [
    "rev_book.to_csv('rev_by_book.csv')"
   ]
  },
  {
   "cell_type": "code",
   "execution_count": null,
   "id": "39ac0238-4ab7-452b-a6bf-62e1b9e5dd25",
   "metadata": {},
   "outputs": [],
   "source": []
  }
 ],
 "metadata": {
  "kernelspec": {
   "display_name": "Python 3 (ipykernel)",
   "language": "python",
   "name": "python3"
  },
  "language_info": {
   "codemirror_mode": {
    "name": "ipython",
    "version": 3
   },
   "file_extension": ".py",
   "mimetype": "text/x-python",
   "name": "python",
   "nbconvert_exporter": "python",
   "pygments_lexer": "ipython3",
   "version": "3.11.3"
  }
 },
 "nbformat": 4,
 "nbformat_minor": 5
}
